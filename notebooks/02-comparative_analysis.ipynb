{
 "cells": [
  {
   "cell_type": "code",
   "execution_count": 1,
   "id": "32553df4-8f4a-4952-bd2c-2a875a3dd438",
   "metadata": {},
   "outputs": [],
   "source": [
    "from pathlib import Path\n",
    "import pandas as pd\n",
    "import numpy as np\n",
    "from sklearn.pipeline import Pipeline\n",
    "from sklearn.impute import SimpleImputer\n",
    "from sklearn.preprocessing import StandardScaler, OneHotEncoder\n",
    "from sklearn.base import BaseEstimator, TransformerMixin\n",
    "from sklearn.compose import ColumnTransformer\n",
    "from sklearn.svm import LinearSVC\n",
    "from sklearn.metrics import accuracy_score\n",
    "from sklearn.model_selection import train_test_split"
   ]
  },
  {
   "cell_type": "code",
   "execution_count": 2,
   "id": "b2187af0-7ca5-4b8f-a6dd-ba1685fe348a",
   "metadata": {},
   "outputs": [],
   "source": [
    "data_path = Path('../data/raw/data.csv')\n",
    "dict_path = Path('../data/external/dicionario.csv')"
   ]
  },
  {
   "cell_type": "code",
   "execution_count": 3,
   "id": "998c78e3-106f-4db5-be55-9a0ed75a39ee",
   "metadata": {},
   "outputs": [],
   "source": [
    "# Ler conjunto de dados\n",
    "df = (\n",
    "    pd\n",
    "    .read_csv(data_path)\n",
    "    .rename(columns={\n",
    "        'FATIGUE ': 'FATIGUE',\n",
    "        'ALLERGY ': 'ALLERGY'}\n",
    "    ) #Para manter a consistência do nome das colunas no dicionário de dados\n",
    ")\n",
    "# Ler dicionário de dados\n",
    "df_dict = pd.read_csv(dict_path, sep=';')"
   ]
  },
  {
   "cell_type": "markdown",
   "id": "ab887156-4143-4a26-975c-239dd53603b5",
   "metadata": {},
   "source": [
    "### Preparação de dados"
   ]
  },
  {
   "cell_type": "code",
   "execution_count": 4,
   "id": "8e7fc9fa-1614-4692-8c42-656857eafbad",
   "metadata": {},
   "outputs": [],
   "source": [
    "target_column = 'LUNG_CANCER'\n",
    "discrete_columns = (\n",
    "    df_dict\n",
    "    .query('Tipo == \"Discreta\"')\n",
    "    .Variavel\n",
    "    .to_list()\n",
    ")\n",
    "nominal_columns = (\n",
    "    df_dict\n",
    "    .query('Tipo == \"Nominal\" and Variavel != @target_column')\n",
    "    .Variavel\n",
    "    .to_list()\n",
    ")"
   ]
  },
  {
   "cell_type": "code",
   "execution_count": 5,
   "id": "2cbd4f09-c93b-4da5-85ee-05f0dbbca6a0",
   "metadata": {},
   "outputs": [],
   "source": [
    "discrete_preprocessor = Pipeline([\n",
    "    # Tratamento de dados discrepantes\n",
    "    ('missing', SimpleImputer(strategy='mean')), # Tratamento de dados faltantes\n",
    "    # Seleção de variáveis\n",
    "    ('normalization', StandardScaler()) # Normalização\n",
    "])\n",
    "\n",
    "\n",
    "nominal_preprocessor = Pipeline([\n",
    "    # Tratamento de dados discrepantes\n",
    "    ('missing', SimpleImputer(strategy='most_frequent')), # Tratamento de dados faltantes\n",
    "    ('encoder', OneHotEncoder()), # Codificação de variáveis\n",
    "    # Seleção de variáveis\n",
    "    ('normalization', StandardScaler(with_mean=False)), # Normalização    \n",
    "])"
   ]
  },
  {
   "cell_type": "code",
   "execution_count": 6,
   "id": "0994b0ba-18fb-44c2-868e-c3c17a4c3ac2",
   "metadata": {},
   "outputs": [],
   "source": [
    "preprocessing = ColumnTransformer([\n",
    "    (\"discrete\", discrete_preprocessor, discrete_columns),\n",
    "    (\"nominal\", nominal_preprocessor, nominal_columns)\n",
    "])\n",
    "model = LinearSVC()\n",
    "approach = Pipeline([\n",
    "    (\"preprocessing\", preprocessing),\n",
    "    (\"model\", model)\n",
    "])"
   ]
  },
  {
   "cell_type": "code",
   "execution_count": 7,
   "id": "b1ee8a39-cf95-4c6e-868e-52b519313331",
   "metadata": {},
   "outputs": [],
   "source": [
    "X = df.drop(columns=[target_column], axis=1)\n",
    "y = df[[target_column]]\n",
    "\n",
    "X_train, X_test, y_train, y_test = train_test_split(X, y, train_size=.8, random_state=42)"
   ]
  },
  {
   "cell_type": "code",
   "execution_count": 8,
   "id": "7313e951-0c8e-4c5b-82ca-275311e5ddc4",
   "metadata": {},
   "outputs": [
    {
     "data": {
      "text/html": [
       "<style>#sk-container-id-1 {color: black;background-color: white;}#sk-container-id-1 pre{padding: 0;}#sk-container-id-1 div.sk-toggleable {background-color: white;}#sk-container-id-1 label.sk-toggleable__label {cursor: pointer;display: block;width: 100%;margin-bottom: 0;padding: 0.3em;box-sizing: border-box;text-align: center;}#sk-container-id-1 label.sk-toggleable__label-arrow:before {content: \"▸\";float: left;margin-right: 0.25em;color: #696969;}#sk-container-id-1 label.sk-toggleable__label-arrow:hover:before {color: black;}#sk-container-id-1 div.sk-estimator:hover label.sk-toggleable__label-arrow:before {color: black;}#sk-container-id-1 div.sk-toggleable__content {max-height: 0;max-width: 0;overflow: hidden;text-align: left;background-color: #f0f8ff;}#sk-container-id-1 div.sk-toggleable__content pre {margin: 0.2em;color: black;border-radius: 0.25em;background-color: #f0f8ff;}#sk-container-id-1 input.sk-toggleable__control:checked~div.sk-toggleable__content {max-height: 200px;max-width: 100%;overflow: auto;}#sk-container-id-1 input.sk-toggleable__control:checked~label.sk-toggleable__label-arrow:before {content: \"▾\";}#sk-container-id-1 div.sk-estimator input.sk-toggleable__control:checked~label.sk-toggleable__label {background-color: #d4ebff;}#sk-container-id-1 div.sk-label input.sk-toggleable__control:checked~label.sk-toggleable__label {background-color: #d4ebff;}#sk-container-id-1 input.sk-hidden--visually {border: 0;clip: rect(1px 1px 1px 1px);clip: rect(1px, 1px, 1px, 1px);height: 1px;margin: -1px;overflow: hidden;padding: 0;position: absolute;width: 1px;}#sk-container-id-1 div.sk-estimator {font-family: monospace;background-color: #f0f8ff;border: 1px dotted black;border-radius: 0.25em;box-sizing: border-box;margin-bottom: 0.5em;}#sk-container-id-1 div.sk-estimator:hover {background-color: #d4ebff;}#sk-container-id-1 div.sk-parallel-item::after {content: \"\";width: 100%;border-bottom: 1px solid gray;flex-grow: 1;}#sk-container-id-1 div.sk-label:hover label.sk-toggleable__label {background-color: #d4ebff;}#sk-container-id-1 div.sk-serial::before {content: \"\";position: absolute;border-left: 1px solid gray;box-sizing: border-box;top: 0;bottom: 0;left: 50%;z-index: 0;}#sk-container-id-1 div.sk-serial {display: flex;flex-direction: column;align-items: center;background-color: white;padding-right: 0.2em;padding-left: 0.2em;position: relative;}#sk-container-id-1 div.sk-item {position: relative;z-index: 1;}#sk-container-id-1 div.sk-parallel {display: flex;align-items: stretch;justify-content: center;background-color: white;position: relative;}#sk-container-id-1 div.sk-item::before, #sk-container-id-1 div.sk-parallel-item::before {content: \"\";position: absolute;border-left: 1px solid gray;box-sizing: border-box;top: 0;bottom: 0;left: 50%;z-index: -1;}#sk-container-id-1 div.sk-parallel-item {display: flex;flex-direction: column;z-index: 1;position: relative;background-color: white;}#sk-container-id-1 div.sk-parallel-item:first-child::after {align-self: flex-end;width: 50%;}#sk-container-id-1 div.sk-parallel-item:last-child::after {align-self: flex-start;width: 50%;}#sk-container-id-1 div.sk-parallel-item:only-child::after {width: 0;}#sk-container-id-1 div.sk-dashed-wrapped {border: 1px dashed gray;margin: 0 0.4em 0.5em 0.4em;box-sizing: border-box;padding-bottom: 0.4em;background-color: white;}#sk-container-id-1 div.sk-label label {font-family: monospace;font-weight: bold;display: inline-block;line-height: 1.2em;}#sk-container-id-1 div.sk-label-container {text-align: center;}#sk-container-id-1 div.sk-container {/* jupyter's `normalize.less` sets `[hidden] { display: none; }` but bootstrap.min.css set `[hidden] { display: none !important; }` so we also need the `!important` here to be able to override the default hidden behavior on the sphinx rendered scikit-learn.org. See: https://github.com/scikit-learn/scikit-learn/issues/21755 */display: inline-block !important;position: relative;}#sk-container-id-1 div.sk-text-repr-fallback {display: none;}</style><div id=\"sk-container-id-1\" class=\"sk-top-container\"><div class=\"sk-text-repr-fallback\"><pre>Pipeline(steps=[(&#x27;preprocessing&#x27;,\n",
       "                 ColumnTransformer(transformers=[(&#x27;discrete&#x27;,\n",
       "                                                  Pipeline(steps=[(&#x27;missing&#x27;,\n",
       "                                                                   SimpleImputer()),\n",
       "                                                                  (&#x27;normalization&#x27;,\n",
       "                                                                   StandardScaler())]),\n",
       "                                                  [&#x27;AGE&#x27;]),\n",
       "                                                 (&#x27;nominal&#x27;,\n",
       "                                                  Pipeline(steps=[(&#x27;missing&#x27;,\n",
       "                                                                   SimpleImputer(strategy=&#x27;most_frequent&#x27;)),\n",
       "                                                                  (&#x27;encoder&#x27;,\n",
       "                                                                   OneHotEncoder()),\n",
       "                                                                  (&#x27;normalization&#x27;,\n",
       "                                                                   StandardScaler(with_mean=False))]),\n",
       "                                                  [&#x27;GENDER&#x27;, &#x27;SMOKING&#x27;,\n",
       "                                                   &#x27;YELLOW_FINGERS&#x27;, &#x27;ANXIETY&#x27;,\n",
       "                                                   &#x27;PEER_PRESSURE&#x27;,\n",
       "                                                   &#x27;CHRONIC DISEASE&#x27;, &#x27;FATIGUE&#x27;,\n",
       "                                                   &#x27;ALLERGY&#x27;, &#x27;WHEEZING&#x27;,\n",
       "                                                   &#x27;ALCOHOL CONSUMING&#x27;,\n",
       "                                                   &#x27;COUGHING&#x27;,\n",
       "                                                   &#x27;SHORTNESS OF BREATH&#x27;,\n",
       "                                                   &#x27;SWALLOWING DIFFICULTY&#x27;,\n",
       "                                                   &#x27;CHEST PAIN&#x27;])])),\n",
       "                (&#x27;model&#x27;, LinearSVC())])</pre><b>In a Jupyter environment, please rerun this cell to show the HTML representation or trust the notebook. <br />On GitHub, the HTML representation is unable to render, please try loading this page with nbviewer.org.</b></div><div class=\"sk-container\" hidden><div class=\"sk-item sk-dashed-wrapped\"><div class=\"sk-label-container\"><div class=\"sk-label sk-toggleable\"><input class=\"sk-toggleable__control sk-hidden--visually\" id=\"sk-estimator-id-1\" type=\"checkbox\" ><label for=\"sk-estimator-id-1\" class=\"sk-toggleable__label sk-toggleable__label-arrow\">Pipeline</label><div class=\"sk-toggleable__content\"><pre>Pipeline(steps=[(&#x27;preprocessing&#x27;,\n",
       "                 ColumnTransformer(transformers=[(&#x27;discrete&#x27;,\n",
       "                                                  Pipeline(steps=[(&#x27;missing&#x27;,\n",
       "                                                                   SimpleImputer()),\n",
       "                                                                  (&#x27;normalization&#x27;,\n",
       "                                                                   StandardScaler())]),\n",
       "                                                  [&#x27;AGE&#x27;]),\n",
       "                                                 (&#x27;nominal&#x27;,\n",
       "                                                  Pipeline(steps=[(&#x27;missing&#x27;,\n",
       "                                                                   SimpleImputer(strategy=&#x27;most_frequent&#x27;)),\n",
       "                                                                  (&#x27;encoder&#x27;,\n",
       "                                                                   OneHotEncoder()),\n",
       "                                                                  (&#x27;normalization&#x27;,\n",
       "                                                                   StandardScaler(with_mean=False))]),\n",
       "                                                  [&#x27;GENDER&#x27;, &#x27;SMOKING&#x27;,\n",
       "                                                   &#x27;YELLOW_FINGERS&#x27;, &#x27;ANXIETY&#x27;,\n",
       "                                                   &#x27;PEER_PRESSURE&#x27;,\n",
       "                                                   &#x27;CHRONIC DISEASE&#x27;, &#x27;FATIGUE&#x27;,\n",
       "                                                   &#x27;ALLERGY&#x27;, &#x27;WHEEZING&#x27;,\n",
       "                                                   &#x27;ALCOHOL CONSUMING&#x27;,\n",
       "                                                   &#x27;COUGHING&#x27;,\n",
       "                                                   &#x27;SHORTNESS OF BREATH&#x27;,\n",
       "                                                   &#x27;SWALLOWING DIFFICULTY&#x27;,\n",
       "                                                   &#x27;CHEST PAIN&#x27;])])),\n",
       "                (&#x27;model&#x27;, LinearSVC())])</pre></div></div></div><div class=\"sk-serial\"><div class=\"sk-item sk-dashed-wrapped\"><div class=\"sk-label-container\"><div class=\"sk-label sk-toggleable\"><input class=\"sk-toggleable__control sk-hidden--visually\" id=\"sk-estimator-id-2\" type=\"checkbox\" ><label for=\"sk-estimator-id-2\" class=\"sk-toggleable__label sk-toggleable__label-arrow\">preprocessing: ColumnTransformer</label><div class=\"sk-toggleable__content\"><pre>ColumnTransformer(transformers=[(&#x27;discrete&#x27;,\n",
       "                                 Pipeline(steps=[(&#x27;missing&#x27;, SimpleImputer()),\n",
       "                                                 (&#x27;normalization&#x27;,\n",
       "                                                  StandardScaler())]),\n",
       "                                 [&#x27;AGE&#x27;]),\n",
       "                                (&#x27;nominal&#x27;,\n",
       "                                 Pipeline(steps=[(&#x27;missing&#x27;,\n",
       "                                                  SimpleImputer(strategy=&#x27;most_frequent&#x27;)),\n",
       "                                                 (&#x27;encoder&#x27;, OneHotEncoder()),\n",
       "                                                 (&#x27;normalization&#x27;,\n",
       "                                                  StandardScaler(with_mean=False))]),\n",
       "                                 [&#x27;GENDER&#x27;, &#x27;SMOKING&#x27;, &#x27;YELLOW_FINGERS&#x27;,\n",
       "                                  &#x27;ANXIETY&#x27;, &#x27;PEER_PRESSURE&#x27;, &#x27;CHRONIC DISEASE&#x27;,\n",
       "                                  &#x27;FATIGUE&#x27;, &#x27;ALLERGY&#x27;, &#x27;WHEEZING&#x27;,\n",
       "                                  &#x27;ALCOHOL CONSUMING&#x27;, &#x27;COUGHING&#x27;,\n",
       "                                  &#x27;SHORTNESS OF BREATH&#x27;,\n",
       "                                  &#x27;SWALLOWING DIFFICULTY&#x27;, &#x27;CHEST PAIN&#x27;])])</pre></div></div></div><div class=\"sk-parallel\"><div class=\"sk-parallel-item\"><div class=\"sk-item\"><div class=\"sk-label-container\"><div class=\"sk-label sk-toggleable\"><input class=\"sk-toggleable__control sk-hidden--visually\" id=\"sk-estimator-id-3\" type=\"checkbox\" ><label for=\"sk-estimator-id-3\" class=\"sk-toggleable__label sk-toggleable__label-arrow\">discrete</label><div class=\"sk-toggleable__content\"><pre>[&#x27;AGE&#x27;]</pre></div></div></div><div class=\"sk-serial\"><div class=\"sk-item\"><div class=\"sk-serial\"><div class=\"sk-item\"><div class=\"sk-estimator sk-toggleable\"><input class=\"sk-toggleable__control sk-hidden--visually\" id=\"sk-estimator-id-4\" type=\"checkbox\" ><label for=\"sk-estimator-id-4\" class=\"sk-toggleable__label sk-toggleable__label-arrow\">SimpleImputer</label><div class=\"sk-toggleable__content\"><pre>SimpleImputer()</pre></div></div></div><div class=\"sk-item\"><div class=\"sk-estimator sk-toggleable\"><input class=\"sk-toggleable__control sk-hidden--visually\" id=\"sk-estimator-id-5\" type=\"checkbox\" ><label for=\"sk-estimator-id-5\" class=\"sk-toggleable__label sk-toggleable__label-arrow\">StandardScaler</label><div class=\"sk-toggleable__content\"><pre>StandardScaler()</pre></div></div></div></div></div></div></div></div><div class=\"sk-parallel-item\"><div class=\"sk-item\"><div class=\"sk-label-container\"><div class=\"sk-label sk-toggleable\"><input class=\"sk-toggleable__control sk-hidden--visually\" id=\"sk-estimator-id-6\" type=\"checkbox\" ><label for=\"sk-estimator-id-6\" class=\"sk-toggleable__label sk-toggleable__label-arrow\">nominal</label><div class=\"sk-toggleable__content\"><pre>[&#x27;GENDER&#x27;, &#x27;SMOKING&#x27;, &#x27;YELLOW_FINGERS&#x27;, &#x27;ANXIETY&#x27;, &#x27;PEER_PRESSURE&#x27;, &#x27;CHRONIC DISEASE&#x27;, &#x27;FATIGUE&#x27;, &#x27;ALLERGY&#x27;, &#x27;WHEEZING&#x27;, &#x27;ALCOHOL CONSUMING&#x27;, &#x27;COUGHING&#x27;, &#x27;SHORTNESS OF BREATH&#x27;, &#x27;SWALLOWING DIFFICULTY&#x27;, &#x27;CHEST PAIN&#x27;]</pre></div></div></div><div class=\"sk-serial\"><div class=\"sk-item\"><div class=\"sk-serial\"><div class=\"sk-item\"><div class=\"sk-estimator sk-toggleable\"><input class=\"sk-toggleable__control sk-hidden--visually\" id=\"sk-estimator-id-7\" type=\"checkbox\" ><label for=\"sk-estimator-id-7\" class=\"sk-toggleable__label sk-toggleable__label-arrow\">SimpleImputer</label><div class=\"sk-toggleable__content\"><pre>SimpleImputer(strategy=&#x27;most_frequent&#x27;)</pre></div></div></div><div class=\"sk-item\"><div class=\"sk-estimator sk-toggleable\"><input class=\"sk-toggleable__control sk-hidden--visually\" id=\"sk-estimator-id-8\" type=\"checkbox\" ><label for=\"sk-estimator-id-8\" class=\"sk-toggleable__label sk-toggleable__label-arrow\">OneHotEncoder</label><div class=\"sk-toggleable__content\"><pre>OneHotEncoder()</pre></div></div></div><div class=\"sk-item\"><div class=\"sk-estimator sk-toggleable\"><input class=\"sk-toggleable__control sk-hidden--visually\" id=\"sk-estimator-id-9\" type=\"checkbox\" ><label for=\"sk-estimator-id-9\" class=\"sk-toggleable__label sk-toggleable__label-arrow\">StandardScaler</label><div class=\"sk-toggleable__content\"><pre>StandardScaler(with_mean=False)</pre></div></div></div></div></div></div></div></div></div></div><div class=\"sk-item\"><div class=\"sk-estimator sk-toggleable\"><input class=\"sk-toggleable__control sk-hidden--visually\" id=\"sk-estimator-id-10\" type=\"checkbox\" ><label for=\"sk-estimator-id-10\" class=\"sk-toggleable__label sk-toggleable__label-arrow\">LinearSVC</label><div class=\"sk-toggleable__content\"><pre>LinearSVC()</pre></div></div></div></div></div></div></div>"
      ],
      "text/plain": [
       "Pipeline(steps=[('preprocessing',\n",
       "                 ColumnTransformer(transformers=[('discrete',\n",
       "                                                  Pipeline(steps=[('missing',\n",
       "                                                                   SimpleImputer()),\n",
       "                                                                  ('normalization',\n",
       "                                                                   StandardScaler())]),\n",
       "                                                  ['AGE']),\n",
       "                                                 ('nominal',\n",
       "                                                  Pipeline(steps=[('missing',\n",
       "                                                                   SimpleImputer(strategy='most_frequent')),\n",
       "                                                                  ('encoder',\n",
       "                                                                   OneHotEncoder()),\n",
       "                                                                  ('normalization',\n",
       "                                                                   StandardScaler(with_mean=False))]),\n",
       "                                                  ['GENDER', 'SMOKING',\n",
       "                                                   'YELLOW_FINGERS', 'ANXIETY',\n",
       "                                                   'PEER_PRESSURE',\n",
       "                                                   'CHRONIC DISEASE', 'FATIGUE',\n",
       "                                                   'ALLERGY', 'WHEEZING',\n",
       "                                                   'ALCOHOL CONSUMING',\n",
       "                                                   'COUGHING',\n",
       "                                                   'SHORTNESS OF BREATH',\n",
       "                                                   'SWALLOWING DIFFICULTY',\n",
       "                                                   'CHEST PAIN'])])),\n",
       "                ('model', LinearSVC())])"
      ]
     },
     "execution_count": 8,
     "metadata": {},
     "output_type": "execute_result"
    }
   ],
   "source": [
    "approach.fit(X_train, y_train)"
   ]
  },
  {
   "cell_type": "code",
   "execution_count": 9,
   "id": "580c9af2-b62e-4401-b070-840666c210fa",
   "metadata": {},
   "outputs": [],
   "source": [
    "y_test_hat = approach.predict(X_test)"
   ]
  },
  {
   "cell_type": "code",
   "execution_count": 10,
   "id": "b37e4a7e-52d2-43ee-97ea-0454a8d6e2d9",
   "metadata": {},
   "outputs": [
    {
     "name": "stdout",
     "output_type": "stream",
     "text": [
      "Acurácia: 0.9839\n"
     ]
    }
   ],
   "source": [
    "acc = accuracy_score(y_test.LUNG_CANCER, y_test_hat)\n",
    "print(f\"Acurácia: {acc:.4f}\")"
   ]
  },
  {
   "cell_type": "code",
   "execution_count": null,
   "id": "d3914f00-f651-4e79-b4dc-34ed316655ec",
   "metadata": {},
   "outputs": [],
   "source": []
  }
 ],
 "metadata": {
  "kernelspec": {
   "display_name": "Python 3 (ipykernel)",
   "language": "python",
   "name": "python3"
  },
  "language_info": {
   "codemirror_mode": {
    "name": "ipython",
    "version": 3
   },
   "file_extension": ".py",
   "mimetype": "text/x-python",
   "name": "python",
   "nbconvert_exporter": "python",
   "pygments_lexer": "ipython3",
   "version": "3.8.10"
  }
 },
 "nbformat": 4,
 "nbformat_minor": 5
}
