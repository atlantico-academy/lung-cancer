{
 "cells": [
  {
   "cell_type": "markdown",
   "metadata": {},
   "source": [
    "# Análise exploratória de dados"
   ]
  },
  {
   "cell_type": "markdown",
   "metadata": {},
   "source": [
    "## 1. Descrição dos dados"
   ]
  },
  {
   "cell_type": "markdown",
   "metadata": {},
   "source": [
    "### 1.1 Configurações iniciais"
   ]
  },
  {
   "cell_type": "code",
   "execution_count": 1,
   "metadata": {},
   "outputs": [],
   "source": [
    "#Importações de bibliotecas\n",
    "import pandas as pd \n",
    "import matplotlib.pyplot as plt\n",
    "import seaborn as sns\n",
    "from pathlib import Path\n",
    "from IPython.display import display, HTML\n",
    "import numpy as np\n",
    "\n",
    "from src.data import visualize, prepare"
   ]
  },
  {
   "cell_type": "code",
   "execution_count": 2,
   "metadata": {},
   "outputs": [],
   "source": [
    "colors = [\"#20B2AA\", \"#B22028\"]\n",
    "sns.set_theme(style=\"whitegrid\")\n",
    "sns.set_palette(sns.color_palette(colors))"
   ]
  },
  {
   "cell_type": "markdown",
   "metadata": {},
   "source": [
    "### 1.2 Dicionário de dados"
   ]
  },
  {
   "cell_type": "code",
   "execution_count": 3,
   "metadata": {},
   "outputs": [
    {
     "data": {
      "text/html": [
       "<div>\n",
       "<style scoped>\n",
       "    .dataframe tbody tr th:only-of-type {\n",
       "        vertical-align: middle;\n",
       "    }\n",
       "\n",
       "    .dataframe tbody tr th {\n",
       "        vertical-align: top;\n",
       "    }\n",
       "\n",
       "    .dataframe thead th {\n",
       "        text-align: right;\n",
       "    }\n",
       "</style>\n",
       "<table border=\"1\" class=\"dataframe\">\n",
       "  <thead>\n",
       "    <tr style=\"text-align: right;\">\n",
       "      <th></th>\n",
       "      <th>Variavel</th>\n",
       "      <th>Significado</th>\n",
       "      <th>Tipo</th>\n",
       "    </tr>\n",
       "  </thead>\n",
       "  <tbody>\n",
       "    <tr>\n",
       "      <th>0</th>\n",
       "      <td>GENDER</td>\n",
       "      <td>Indica o genêro do paciente</td>\n",
       "      <td>Nominal</td>\n",
       "    </tr>\n",
       "    <tr>\n",
       "      <th>1</th>\n",
       "      <td>AGE</td>\n",
       "      <td>Indica a idade do paciente</td>\n",
       "      <td>Discreta</td>\n",
       "    </tr>\n",
       "    <tr>\n",
       "      <th>2</th>\n",
       "      <td>SMOKING</td>\n",
       "      <td>Indica se o paciente é fumante</td>\n",
       "      <td>Nominal</td>\n",
       "    </tr>\n",
       "    <tr>\n",
       "      <th>3</th>\n",
       "      <td>YELLOW_FINGERS</td>\n",
       "      <td>Indica se o paciente possui as extremidades do...</td>\n",
       "      <td>Nominal</td>\n",
       "    </tr>\n",
       "    <tr>\n",
       "      <th>4</th>\n",
       "      <td>ANXIETY</td>\n",
       "      <td>Indica se o paciente apresenta sinais de trans...</td>\n",
       "      <td>Nominal</td>\n",
       "    </tr>\n",
       "    <tr>\n",
       "      <th>5</th>\n",
       "      <td>PEER_PRESSURE</td>\n",
       "      <td>Indica se o paciente, por volta da adolescenci...</td>\n",
       "      <td>Nominal</td>\n",
       "    </tr>\n",
       "    <tr>\n",
       "      <th>6</th>\n",
       "      <td>CHRONIC DISEASE</td>\n",
       "      <td>Indica se o paciente possui alguma comorbidade...</td>\n",
       "      <td>Nominal</td>\n",
       "    </tr>\n",
       "    <tr>\n",
       "      <th>7</th>\n",
       "      <td>FATIGUE</td>\n",
       "      <td>Indica se o paciente apresenta sinais de cansa...</td>\n",
       "      <td>Nominal</td>\n",
       "    </tr>\n",
       "    <tr>\n",
       "      <th>8</th>\n",
       "      <td>ALLERGY</td>\n",
       "      <td>Indica se o paciente possui alergia a fumaça d...</td>\n",
       "      <td>Nominal</td>\n",
       "    </tr>\n",
       "    <tr>\n",
       "      <th>9</th>\n",
       "      <td>WHEEZING</td>\n",
       "      <td>Indica se o paciente apresenta um chiado no pu...</td>\n",
       "      <td>Nominal</td>\n",
       "    </tr>\n",
       "    <tr>\n",
       "      <th>10</th>\n",
       "      <td>ALCOHOL CONSUMING</td>\n",
       "      <td>Indica se o paciente consome alcool frequente</td>\n",
       "      <td>Nominal</td>\n",
       "    </tr>\n",
       "    <tr>\n",
       "      <th>11</th>\n",
       "      <td>COUGHING</td>\n",
       "      <td>Indica se o paciente apresenta tosse frequente</td>\n",
       "      <td>Nominal</td>\n",
       "    </tr>\n",
       "    <tr>\n",
       "      <th>12</th>\n",
       "      <td>SHORTNESS OF BREATH</td>\n",
       "      <td>Indica se o paciente possui respiração curta</td>\n",
       "      <td>Nominal</td>\n",
       "    </tr>\n",
       "    <tr>\n",
       "      <th>13</th>\n",
       "      <td>SWALLOWING DIFFICULTY</td>\n",
       "      <td>Indica se o paciente posui dificuldade para in...</td>\n",
       "      <td>Nominal</td>\n",
       "    </tr>\n",
       "    <tr>\n",
       "      <th>14</th>\n",
       "      <td>CHEST PAIN</td>\n",
       "      <td>Indica se o paciente apresenta dor no peito</td>\n",
       "      <td>Nominal</td>\n",
       "    </tr>\n",
       "    <tr>\n",
       "      <th>15</th>\n",
       "      <td>LUNG_CANCER</td>\n",
       "      <td>Indica se o paciente possui cancêr de pulmão</td>\n",
       "      <td>Nominal</td>\n",
       "    </tr>\n",
       "  </tbody>\n",
       "</table>\n",
       "</div>"
      ],
      "text/plain": [
       "                 Variavel                                        Significado  \\\n",
       "0                  GENDER                        Indica o genêro do paciente   \n",
       "1                     AGE                         Indica a idade do paciente   \n",
       "2                 SMOKING                     Indica se o paciente é fumante   \n",
       "3          YELLOW_FINGERS  Indica se o paciente possui as extremidades do...   \n",
       "4                 ANXIETY  Indica se o paciente apresenta sinais de trans...   \n",
       "5           PEER_PRESSURE  Indica se o paciente, por volta da adolescenci...   \n",
       "6         CHRONIC DISEASE  Indica se o paciente possui alguma comorbidade...   \n",
       "7                 FATIGUE  Indica se o paciente apresenta sinais de cansa...   \n",
       "8                 ALLERGY  Indica se o paciente possui alergia a fumaça d...   \n",
       "9                WHEEZING  Indica se o paciente apresenta um chiado no pu...   \n",
       "10      ALCOHOL CONSUMING      Indica se o paciente consome alcool frequente   \n",
       "11               COUGHING     Indica se o paciente apresenta tosse frequente   \n",
       "12    SHORTNESS OF BREATH       Indica se o paciente possui respiração curta   \n",
       "13  SWALLOWING DIFFICULTY  Indica se o paciente posui dificuldade para in...   \n",
       "14             CHEST PAIN        Indica se o paciente apresenta dor no peito   \n",
       "15            LUNG_CANCER       Indica se o paciente possui cancêr de pulmão   \n",
       "\n",
       "        Tipo  \n",
       "0    Nominal  \n",
       "1   Discreta  \n",
       "2    Nominal  \n",
       "3    Nominal  \n",
       "4    Nominal  \n",
       "5    Nominal  \n",
       "6    Nominal  \n",
       "7    Nominal  \n",
       "8    Nominal  \n",
       "9    Nominal  \n",
       "10   Nominal  \n",
       "11   Nominal  \n",
       "12   Nominal  \n",
       "13   Nominal  \n",
       "14   Nominal  \n",
       "15   Nominal  "
      ]
     },
     "execution_count": 3,
     "metadata": {},
     "output_type": "execute_result"
    }
   ],
   "source": [
    "data_path = Path('../data/external/dicionario.csv')\n",
    "df_dict = pd.read_csv(data_path, sep=';') #Obtendo o dataset\n",
    "\n",
    "df_dict"
   ]
  },
  {
   "cell_type": "markdown",
   "metadata": {},
   "source": [
    "#### 1.2.1 Agrupamento de variáveis"
   ]
  },
  {
   "cell_type": "markdown",
   "metadata": {},
   "source": [
    "|Grupo                |Variáveis                                                                     \n",
    "|---------------------|---------------------------------------------------------------------------------\n",
    "|`Sintoma`            |`SMOKING`, `YELLOW_FINGERS`, `ANXIETY`, `PEER_PRESSURE`, `CHRONIC DISEASE`, `FATIGUE`,  `ALLERGY`, `WHEEZING`, `ALCOHOL CONSUMING`, `COUGHING`, `SHORTNESS OF BREATH`, `SWALLOWING DIFFICULTY`, `CHEST PAIN`                                                    \n",
    "|`Identificação`      |`AGE`, `GENDER`\n",
    "\n",
    "**Nota:** `LUNG_CANCER` não foi incluída em nenhum grupo pois é a variável alvo."
   ]
  },
  {
   "cell_type": "code",
   "execution_count": 4,
   "metadata": {},
   "outputs": [
    {
     "data": {
      "text/html": [
       "<div>\n",
       "<style scoped>\n",
       "    .dataframe tbody tr th:only-of-type {\n",
       "        vertical-align: middle;\n",
       "    }\n",
       "\n",
       "    .dataframe tbody tr th {\n",
       "        vertical-align: top;\n",
       "    }\n",
       "\n",
       "    .dataframe thead th {\n",
       "        text-align: right;\n",
       "    }\n",
       "</style>\n",
       "<table border=\"1\" class=\"dataframe\">\n",
       "  <thead>\n",
       "    <tr style=\"text-align: right;\">\n",
       "      <th></th>\n",
       "      <th>Variavel</th>\n",
       "      <th>Significado</th>\n",
       "      <th>Tipo</th>\n",
       "      <th>Grupo</th>\n",
       "    </tr>\n",
       "  </thead>\n",
       "  <tbody>\n",
       "    <tr>\n",
       "      <th>0</th>\n",
       "      <td>GENDER</td>\n",
       "      <td>Indica o genêro do paciente</td>\n",
       "      <td>Nominal</td>\n",
       "      <td>Identificação</td>\n",
       "    </tr>\n",
       "    <tr>\n",
       "      <th>1</th>\n",
       "      <td>AGE</td>\n",
       "      <td>Indica a idade do paciente</td>\n",
       "      <td>Discreta</td>\n",
       "      <td>Identificação</td>\n",
       "    </tr>\n",
       "    <tr>\n",
       "      <th>2</th>\n",
       "      <td>SMOKING</td>\n",
       "      <td>Indica se o paciente é fumante</td>\n",
       "      <td>Nominal</td>\n",
       "      <td>Sintoma</td>\n",
       "    </tr>\n",
       "    <tr>\n",
       "      <th>3</th>\n",
       "      <td>YELLOW_FINGERS</td>\n",
       "      <td>Indica se o paciente possui as extremidades do...</td>\n",
       "      <td>Nominal</td>\n",
       "      <td>Sintoma</td>\n",
       "    </tr>\n",
       "    <tr>\n",
       "      <th>4</th>\n",
       "      <td>ANXIETY</td>\n",
       "      <td>Indica se o paciente apresenta sinais de trans...</td>\n",
       "      <td>Nominal</td>\n",
       "      <td>Sintoma</td>\n",
       "    </tr>\n",
       "    <tr>\n",
       "      <th>5</th>\n",
       "      <td>PEER_PRESSURE</td>\n",
       "      <td>Indica se o paciente, por volta da adolescenci...</td>\n",
       "      <td>Nominal</td>\n",
       "      <td>Sintoma</td>\n",
       "    </tr>\n",
       "    <tr>\n",
       "      <th>6</th>\n",
       "      <td>CHRONIC DISEASE</td>\n",
       "      <td>Indica se o paciente possui alguma comorbidade...</td>\n",
       "      <td>Nominal</td>\n",
       "      <td>Sintoma</td>\n",
       "    </tr>\n",
       "    <tr>\n",
       "      <th>7</th>\n",
       "      <td>FATIGUE</td>\n",
       "      <td>Indica se o paciente apresenta sinais de cansa...</td>\n",
       "      <td>Nominal</td>\n",
       "      <td>Sintoma</td>\n",
       "    </tr>\n",
       "    <tr>\n",
       "      <th>8</th>\n",
       "      <td>ALLERGY</td>\n",
       "      <td>Indica se o paciente possui alergia a fumaça d...</td>\n",
       "      <td>Nominal</td>\n",
       "      <td>Sintoma</td>\n",
       "    </tr>\n",
       "    <tr>\n",
       "      <th>9</th>\n",
       "      <td>WHEEZING</td>\n",
       "      <td>Indica se o paciente apresenta um chiado no pu...</td>\n",
       "      <td>Nominal</td>\n",
       "      <td>Sintoma</td>\n",
       "    </tr>\n",
       "    <tr>\n",
       "      <th>10</th>\n",
       "      <td>ALCOHOL CONSUMING</td>\n",
       "      <td>Indica se o paciente consome alcool frequente</td>\n",
       "      <td>Nominal</td>\n",
       "      <td>Sintoma</td>\n",
       "    </tr>\n",
       "    <tr>\n",
       "      <th>11</th>\n",
       "      <td>COUGHING</td>\n",
       "      <td>Indica se o paciente apresenta tosse frequente</td>\n",
       "      <td>Nominal</td>\n",
       "      <td>Sintoma</td>\n",
       "    </tr>\n",
       "    <tr>\n",
       "      <th>12</th>\n",
       "      <td>SHORTNESS OF BREATH</td>\n",
       "      <td>Indica se o paciente possui respiração curta</td>\n",
       "      <td>Nominal</td>\n",
       "      <td>Sintoma</td>\n",
       "    </tr>\n",
       "    <tr>\n",
       "      <th>13</th>\n",
       "      <td>SWALLOWING DIFFICULTY</td>\n",
       "      <td>Indica se o paciente posui dificuldade para in...</td>\n",
       "      <td>Nominal</td>\n",
       "      <td>Sintoma</td>\n",
       "    </tr>\n",
       "    <tr>\n",
       "      <th>14</th>\n",
       "      <td>CHEST PAIN</td>\n",
       "      <td>Indica se o paciente apresenta dor no peito</td>\n",
       "      <td>Nominal</td>\n",
       "      <td>Sintoma</td>\n",
       "    </tr>\n",
       "    <tr>\n",
       "      <th>15</th>\n",
       "      <td>LUNG_CANCER</td>\n",
       "      <td>Indica se o paciente possui cancêr de pulmão</td>\n",
       "      <td>Nominal</td>\n",
       "      <td></td>\n",
       "    </tr>\n",
       "  </tbody>\n",
       "</table>\n",
       "</div>"
      ],
      "text/plain": [
       "                 Variavel                                        Significado  \\\n",
       "0                  GENDER                        Indica o genêro do paciente   \n",
       "1                     AGE                         Indica a idade do paciente   \n",
       "2                 SMOKING                     Indica se o paciente é fumante   \n",
       "3          YELLOW_FINGERS  Indica se o paciente possui as extremidades do...   \n",
       "4                 ANXIETY  Indica se o paciente apresenta sinais de trans...   \n",
       "5           PEER_PRESSURE  Indica se o paciente, por volta da adolescenci...   \n",
       "6         CHRONIC DISEASE  Indica se o paciente possui alguma comorbidade...   \n",
       "7                 FATIGUE  Indica se o paciente apresenta sinais de cansa...   \n",
       "8                 ALLERGY  Indica se o paciente possui alergia a fumaça d...   \n",
       "9                WHEEZING  Indica se o paciente apresenta um chiado no pu...   \n",
       "10      ALCOHOL CONSUMING      Indica se o paciente consome alcool frequente   \n",
       "11               COUGHING     Indica se o paciente apresenta tosse frequente   \n",
       "12    SHORTNESS OF BREATH       Indica se o paciente possui respiração curta   \n",
       "13  SWALLOWING DIFFICULTY  Indica se o paciente posui dificuldade para in...   \n",
       "14             CHEST PAIN        Indica se o paciente apresenta dor no peito   \n",
       "15            LUNG_CANCER       Indica se o paciente possui cancêr de pulmão   \n",
       "\n",
       "        Tipo          Grupo  \n",
       "0    Nominal  Identificação  \n",
       "1   Discreta  Identificação  \n",
       "2    Nominal        Sintoma  \n",
       "3    Nominal        Sintoma  \n",
       "4    Nominal        Sintoma  \n",
       "5    Nominal        Sintoma  \n",
       "6    Nominal        Sintoma  \n",
       "7    Nominal        Sintoma  \n",
       "8    Nominal        Sintoma  \n",
       "9    Nominal        Sintoma  \n",
       "10   Nominal        Sintoma  \n",
       "11   Nominal        Sintoma  \n",
       "12   Nominal        Sintoma  \n",
       "13   Nominal        Sintoma  \n",
       "14   Nominal        Sintoma  \n",
       "15   Nominal                 "
      ]
     },
     "execution_count": 4,
     "metadata": {},
     "output_type": "execute_result"
    }
   ],
   "source": [
    "df_dict = df_dict.assign(\n",
    "    Grupo = df_dict.apply(prepare.group_separation, axis=1)\n",
    ")\n",
    "columns_by_group = {\n",
    "    group: df_dict.query(\"Grupo == @group\").Variavel.to_list()\n",
    "    for group in df_dict.Grupo.unique()\n",
    "}\n",
    "\n",
    "df_dict"
   ]
  },
  {
   "cell_type": "markdown",
   "metadata": {},
   "source": [
    "### 1.3 Conjunto de dados"
   ]
  },
  {
   "cell_type": "markdown",
   "metadata": {},
   "source": [
    "Já conhecemos as variáveis, podemos prosseguir para a leitura dos dados"
   ]
  },
  {
   "cell_type": "code",
   "execution_count": 5,
   "metadata": {},
   "outputs": [
    {
     "data": {
      "text/html": [
       "<div>\n",
       "<style scoped>\n",
       "    .dataframe tbody tr th:only-of-type {\n",
       "        vertical-align: middle;\n",
       "    }\n",
       "\n",
       "    .dataframe tbody tr th {\n",
       "        vertical-align: top;\n",
       "    }\n",
       "\n",
       "    .dataframe thead th {\n",
       "        text-align: right;\n",
       "    }\n",
       "</style>\n",
       "<table border=\"1\" class=\"dataframe\">\n",
       "  <thead>\n",
       "    <tr style=\"text-align: right;\">\n",
       "      <th></th>\n",
       "      <th>GENDER</th>\n",
       "      <th>AGE</th>\n",
       "      <th>SMOKING</th>\n",
       "      <th>YELLOW_FINGERS</th>\n",
       "      <th>ANXIETY</th>\n",
       "      <th>PEER_PRESSURE</th>\n",
       "      <th>CHRONIC DISEASE</th>\n",
       "      <th>FATIGUE</th>\n",
       "      <th>ALLERGY</th>\n",
       "      <th>WHEEZING</th>\n",
       "      <th>ALCOHOL CONSUMING</th>\n",
       "      <th>COUGHING</th>\n",
       "      <th>SHORTNESS OF BREATH</th>\n",
       "      <th>SWALLOWING DIFFICULTY</th>\n",
       "      <th>CHEST PAIN</th>\n",
       "      <th>LUNG_CANCER</th>\n",
       "    </tr>\n",
       "  </thead>\n",
       "  <tbody>\n",
       "    <tr>\n",
       "      <th>0</th>\n",
       "      <td>M</td>\n",
       "      <td>69</td>\n",
       "      <td>1</td>\n",
       "      <td>2</td>\n",
       "      <td>2</td>\n",
       "      <td>1</td>\n",
       "      <td>1</td>\n",
       "      <td>2</td>\n",
       "      <td>1</td>\n",
       "      <td>2</td>\n",
       "      <td>2</td>\n",
       "      <td>2</td>\n",
       "      <td>2</td>\n",
       "      <td>2</td>\n",
       "      <td>2</td>\n",
       "      <td>YES</td>\n",
       "    </tr>\n",
       "    <tr>\n",
       "      <th>1</th>\n",
       "      <td>M</td>\n",
       "      <td>74</td>\n",
       "      <td>2</td>\n",
       "      <td>1</td>\n",
       "      <td>1</td>\n",
       "      <td>1</td>\n",
       "      <td>2</td>\n",
       "      <td>2</td>\n",
       "      <td>2</td>\n",
       "      <td>1</td>\n",
       "      <td>1</td>\n",
       "      <td>1</td>\n",
       "      <td>2</td>\n",
       "      <td>2</td>\n",
       "      <td>2</td>\n",
       "      <td>YES</td>\n",
       "    </tr>\n",
       "    <tr>\n",
       "      <th>2</th>\n",
       "      <td>F</td>\n",
       "      <td>59</td>\n",
       "      <td>1</td>\n",
       "      <td>1</td>\n",
       "      <td>1</td>\n",
       "      <td>2</td>\n",
       "      <td>1</td>\n",
       "      <td>2</td>\n",
       "      <td>1</td>\n",
       "      <td>2</td>\n",
       "      <td>1</td>\n",
       "      <td>2</td>\n",
       "      <td>2</td>\n",
       "      <td>1</td>\n",
       "      <td>2</td>\n",
       "      <td>NO</td>\n",
       "    </tr>\n",
       "    <tr>\n",
       "      <th>3</th>\n",
       "      <td>M</td>\n",
       "      <td>63</td>\n",
       "      <td>2</td>\n",
       "      <td>2</td>\n",
       "      <td>2</td>\n",
       "      <td>1</td>\n",
       "      <td>1</td>\n",
       "      <td>1</td>\n",
       "      <td>1</td>\n",
       "      <td>1</td>\n",
       "      <td>2</td>\n",
       "      <td>1</td>\n",
       "      <td>1</td>\n",
       "      <td>2</td>\n",
       "      <td>2</td>\n",
       "      <td>NO</td>\n",
       "    </tr>\n",
       "    <tr>\n",
       "      <th>4</th>\n",
       "      <td>F</td>\n",
       "      <td>63</td>\n",
       "      <td>1</td>\n",
       "      <td>2</td>\n",
       "      <td>1</td>\n",
       "      <td>1</td>\n",
       "      <td>1</td>\n",
       "      <td>1</td>\n",
       "      <td>1</td>\n",
       "      <td>2</td>\n",
       "      <td>1</td>\n",
       "      <td>2</td>\n",
       "      <td>2</td>\n",
       "      <td>1</td>\n",
       "      <td>1</td>\n",
       "      <td>NO</td>\n",
       "    </tr>\n",
       "    <tr>\n",
       "      <th>...</th>\n",
       "      <td>...</td>\n",
       "      <td>...</td>\n",
       "      <td>...</td>\n",
       "      <td>...</td>\n",
       "      <td>...</td>\n",
       "      <td>...</td>\n",
       "      <td>...</td>\n",
       "      <td>...</td>\n",
       "      <td>...</td>\n",
       "      <td>...</td>\n",
       "      <td>...</td>\n",
       "      <td>...</td>\n",
       "      <td>...</td>\n",
       "      <td>...</td>\n",
       "      <td>...</td>\n",
       "      <td>...</td>\n",
       "    </tr>\n",
       "    <tr>\n",
       "      <th>304</th>\n",
       "      <td>F</td>\n",
       "      <td>56</td>\n",
       "      <td>1</td>\n",
       "      <td>1</td>\n",
       "      <td>1</td>\n",
       "      <td>2</td>\n",
       "      <td>2</td>\n",
       "      <td>2</td>\n",
       "      <td>1</td>\n",
       "      <td>1</td>\n",
       "      <td>2</td>\n",
       "      <td>2</td>\n",
       "      <td>2</td>\n",
       "      <td>2</td>\n",
       "      <td>1</td>\n",
       "      <td>YES</td>\n",
       "    </tr>\n",
       "    <tr>\n",
       "      <th>305</th>\n",
       "      <td>M</td>\n",
       "      <td>70</td>\n",
       "      <td>2</td>\n",
       "      <td>1</td>\n",
       "      <td>1</td>\n",
       "      <td>1</td>\n",
       "      <td>1</td>\n",
       "      <td>2</td>\n",
       "      <td>2</td>\n",
       "      <td>2</td>\n",
       "      <td>2</td>\n",
       "      <td>2</td>\n",
       "      <td>2</td>\n",
       "      <td>1</td>\n",
       "      <td>2</td>\n",
       "      <td>YES</td>\n",
       "    </tr>\n",
       "    <tr>\n",
       "      <th>306</th>\n",
       "      <td>M</td>\n",
       "      <td>58</td>\n",
       "      <td>2</td>\n",
       "      <td>1</td>\n",
       "      <td>1</td>\n",
       "      <td>1</td>\n",
       "      <td>1</td>\n",
       "      <td>1</td>\n",
       "      <td>2</td>\n",
       "      <td>2</td>\n",
       "      <td>2</td>\n",
       "      <td>2</td>\n",
       "      <td>1</td>\n",
       "      <td>1</td>\n",
       "      <td>2</td>\n",
       "      <td>YES</td>\n",
       "    </tr>\n",
       "    <tr>\n",
       "      <th>307</th>\n",
       "      <td>M</td>\n",
       "      <td>67</td>\n",
       "      <td>2</td>\n",
       "      <td>1</td>\n",
       "      <td>2</td>\n",
       "      <td>1</td>\n",
       "      <td>1</td>\n",
       "      <td>2</td>\n",
       "      <td>2</td>\n",
       "      <td>1</td>\n",
       "      <td>2</td>\n",
       "      <td>2</td>\n",
       "      <td>2</td>\n",
       "      <td>1</td>\n",
       "      <td>2</td>\n",
       "      <td>YES</td>\n",
       "    </tr>\n",
       "    <tr>\n",
       "      <th>308</th>\n",
       "      <td>M</td>\n",
       "      <td>62</td>\n",
       "      <td>1</td>\n",
       "      <td>1</td>\n",
       "      <td>1</td>\n",
       "      <td>2</td>\n",
       "      <td>1</td>\n",
       "      <td>2</td>\n",
       "      <td>2</td>\n",
       "      <td>2</td>\n",
       "      <td>2</td>\n",
       "      <td>1</td>\n",
       "      <td>1</td>\n",
       "      <td>2</td>\n",
       "      <td>1</td>\n",
       "      <td>YES</td>\n",
       "    </tr>\n",
       "  </tbody>\n",
       "</table>\n",
       "<p>309 rows × 16 columns</p>\n",
       "</div>"
      ],
      "text/plain": [
       "    GENDER  AGE  SMOKING  YELLOW_FINGERS  ANXIETY  PEER_PRESSURE  \\\n",
       "0        M   69        1               2        2              1   \n",
       "1        M   74        2               1        1              1   \n",
       "2        F   59        1               1        1              2   \n",
       "3        M   63        2               2        2              1   \n",
       "4        F   63        1               2        1              1   \n",
       "..     ...  ...      ...             ...      ...            ...   \n",
       "304      F   56        1               1        1              2   \n",
       "305      M   70        2               1        1              1   \n",
       "306      M   58        2               1        1              1   \n",
       "307      M   67        2               1        2              1   \n",
       "308      M   62        1               1        1              2   \n",
       "\n",
       "     CHRONIC DISEASE  FATIGUE  ALLERGY  WHEEZING  ALCOHOL CONSUMING  COUGHING  \\\n",
       "0                  1        2        1         2                  2         2   \n",
       "1                  2        2        2         1                  1         1   \n",
       "2                  1        2        1         2                  1         2   \n",
       "3                  1        1        1         1                  2         1   \n",
       "4                  1        1        1         2                  1         2   \n",
       "..               ...      ...      ...       ...                ...       ...   \n",
       "304                2        2        1         1                  2         2   \n",
       "305                1        2        2         2                  2         2   \n",
       "306                1        1        2         2                  2         2   \n",
       "307                1        2        2         1                  2         2   \n",
       "308                1        2        2         2                  2         1   \n",
       "\n",
       "     SHORTNESS OF BREATH  SWALLOWING DIFFICULTY  CHEST PAIN LUNG_CANCER  \n",
       "0                      2                      2           2         YES  \n",
       "1                      2                      2           2         YES  \n",
       "2                      2                      1           2          NO  \n",
       "3                      1                      2           2          NO  \n",
       "4                      2                      1           1          NO  \n",
       "..                   ...                    ...         ...         ...  \n",
       "304                    2                      2           1         YES  \n",
       "305                    2                      1           2         YES  \n",
       "306                    1                      1           2         YES  \n",
       "307                    2                      1           2         YES  \n",
       "308                    1                      2           1         YES  \n",
       "\n",
       "[309 rows x 16 columns]"
      ]
     },
     "execution_count": 5,
     "metadata": {},
     "output_type": "execute_result"
    }
   ],
   "source": [
    "data_path = Path('../data/raw/data.csv')\n",
    "df = (\n",
    "    pd\n",
    "    .read_csv(data_path)\n",
    "    .rename(columns={'FATIGUE ': 'FATIGUE', 'ALLERGY ': 'ALLERGY'}) #Para manter a consistência do nome das colunas no dicionário de dados\n",
    ") #Obtendo o dataset\n",
    "\n",
    "df"
   ]
  },
  {
   "cell_type": "code",
   "execution_count": 6,
   "metadata": {},
   "outputs": [
    {
     "name": "stdout",
     "output_type": "stream",
     "text": [
      "<class 'pandas.core.frame.DataFrame'>\n",
      "RangeIndex: 309 entries, 0 to 308\n",
      "Data columns (total 16 columns):\n",
      " #   Column                 Non-Null Count  Dtype \n",
      "---  ------                 --------------  ----- \n",
      " 0   GENDER                 309 non-null    object\n",
      " 1   AGE                    309 non-null    int64 \n",
      " 2   SMOKING                309 non-null    int64 \n",
      " 3   YELLOW_FINGERS         309 non-null    int64 \n",
      " 4   ANXIETY                309 non-null    int64 \n",
      " 5   PEER_PRESSURE          309 non-null    int64 \n",
      " 6   CHRONIC DISEASE        309 non-null    int64 \n",
      " 7   FATIGUE                309 non-null    int64 \n",
      " 8   ALLERGY                309 non-null    int64 \n",
      " 9   WHEEZING               309 non-null    int64 \n",
      " 10  ALCOHOL CONSUMING      309 non-null    int64 \n",
      " 11  COUGHING               309 non-null    int64 \n",
      " 12  SHORTNESS OF BREATH    309 non-null    int64 \n",
      " 13  SWALLOWING DIFFICULTY  309 non-null    int64 \n",
      " 14  CHEST PAIN             309 non-null    int64 \n",
      " 15  LUNG_CANCER            309 non-null    object\n",
      "dtypes: int64(14), object(2)\n",
      "memory usage: 38.8+ KB\n"
     ]
    }
   ],
   "source": [
    "df.info()"
   ]
  },
  {
   "cell_type": "markdown",
   "metadata": {},
   "source": [
    "### 1.4 Dados faltantes"
   ]
  },
  {
   "cell_type": "markdown",
   "metadata": {},
   "source": [
    "Primeiramente, podemos analisar se há algum valor nulo `(NaN)` nos dados."
   ]
  },
  {
   "cell_type": "code",
   "execution_count": 7,
   "metadata": {},
   "outputs": [
    {
     "data": {
      "text/plain": [
       "GENDER                   0\n",
       "AGE                      0\n",
       "SMOKING                  0\n",
       "YELLOW_FINGERS           0\n",
       "ANXIETY                  0\n",
       "PEER_PRESSURE            0\n",
       "CHRONIC DISEASE          0\n",
       "FATIGUE                  0\n",
       "ALLERGY                  0\n",
       "WHEEZING                 0\n",
       "ALCOHOL CONSUMING        0\n",
       "COUGHING                 0\n",
       "SHORTNESS OF BREATH      0\n",
       "SWALLOWING DIFFICULTY    0\n",
       "CHEST PAIN               0\n",
       "LUNG_CANCER              0\n",
       "dtype: int64"
      ]
     },
     "execution_count": 7,
     "metadata": {},
     "output_type": "execute_result"
    }
   ],
   "source": [
    "df.isnull().sum()"
   ]
  },
  {
   "cell_type": "markdown",
   "metadata": {},
   "source": [
    "Felizmente, não há nenhum valor nulo no conjunto, contudo podemos checar se outros valores foram utilizados para representar dados faltantes."
   ]
  },
  {
   "cell_type": "code",
   "execution_count": 8,
   "metadata": {},
   "outputs": [
    {
     "data": {
      "text/html": [
       "<table border=\"1\" class=\"dataframe\">\n",
       "  <thead>\n",
       "    <tr style=\"text-align: right;\">\n",
       "      <th></th>\n",
       "      <th>Variavel</th>\n",
       "      <th>Valores</th>\n",
       "    </tr>\n",
       "  </thead>\n",
       "  <tbody>\n",
       "    <tr>\n",
       "      <th>0</th>\n",
       "      <td>GENDER</td>\n",
       "      <td>[M, F]</td>\n",
       "    </tr>\n",
       "    <tr>\n",
       "      <th>1</th>\n",
       "      <td>AGE</td>\n",
       "      <td>[69, 74, 59, 63, 75, 52, 51, 68, 53, 61, 72, 60, 58, 48, 57, 44, 64, 21, 65, 55, 62, 56, 67, 77, 70, 54, 49, 73, 47, 71, 66, 76, 78, 81, 79, 38, 39, 87, 46]</td>\n",
       "    </tr>\n",
       "    <tr>\n",
       "      <th>2</th>\n",
       "      <td>SMOKING</td>\n",
       "      <td>[1, 2]</td>\n",
       "    </tr>\n",
       "    <tr>\n",
       "      <th>3</th>\n",
       "      <td>YELLOW_FINGERS</td>\n",
       "      <td>[2, 1]</td>\n",
       "    </tr>\n",
       "    <tr>\n",
       "      <th>4</th>\n",
       "      <td>ANXIETY</td>\n",
       "      <td>[2, 1]</td>\n",
       "    </tr>\n",
       "    <tr>\n",
       "      <th>5</th>\n",
       "      <td>PEER_PRESSURE</td>\n",
       "      <td>[1, 2]</td>\n",
       "    </tr>\n",
       "    <tr>\n",
       "      <th>6</th>\n",
       "      <td>CHRONIC DISEASE</td>\n",
       "      <td>[1, 2]</td>\n",
       "    </tr>\n",
       "    <tr>\n",
       "      <th>7</th>\n",
       "      <td>FATIGUE</td>\n",
       "      <td>[2, 1]</td>\n",
       "    </tr>\n",
       "    <tr>\n",
       "      <th>8</th>\n",
       "      <td>ALLERGY</td>\n",
       "      <td>[1, 2]</td>\n",
       "    </tr>\n",
       "    <tr>\n",
       "      <th>9</th>\n",
       "      <td>WHEEZING</td>\n",
       "      <td>[2, 1]</td>\n",
       "    </tr>\n",
       "    <tr>\n",
       "      <th>10</th>\n",
       "      <td>ALCOHOL CONSUMING</td>\n",
       "      <td>[2, 1]</td>\n",
       "    </tr>\n",
       "    <tr>\n",
       "      <th>11</th>\n",
       "      <td>COUGHING</td>\n",
       "      <td>[2, 1]</td>\n",
       "    </tr>\n",
       "    <tr>\n",
       "      <th>12</th>\n",
       "      <td>SHORTNESS OF BREATH</td>\n",
       "      <td>[2, 1]</td>\n",
       "    </tr>\n",
       "    <tr>\n",
       "      <th>13</th>\n",
       "      <td>SWALLOWING DIFFICULTY</td>\n",
       "      <td>[2, 1]</td>\n",
       "    </tr>\n",
       "    <tr>\n",
       "      <th>14</th>\n",
       "      <td>CHEST PAIN</td>\n",
       "      <td>[2, 1]</td>\n",
       "    </tr>\n",
       "    <tr>\n",
       "      <th>15</th>\n",
       "      <td>LUNG_CANCER</td>\n",
       "      <td>[YES, NO]</td>\n",
       "    </tr>\n",
       "  </tbody>\n",
       "</table>"
      ],
      "text/plain": [
       "<IPython.core.display.HTML object>"
      ]
     },
     "metadata": {},
     "output_type": "display_data"
    }
   ],
   "source": [
    "uniques = {'Variavel': df_dict['Variavel'], 'Valores': []}\n",
    "for index, row in df_dict.iterrows():\n",
    "    uniques['Valores'].append(df[row['Variavel']].unique())\n",
    "\n",
    "df_uniques = pd.DataFrame.from_dict(uniques)\n",
    "display(HTML(df_uniques.to_html())) #Para impedir que os valores de idade fiquem cortados"
   ]
  },
  {
   "cell_type": "markdown",
   "metadata": {},
   "source": [
    "Com isso, podemos verificar que não há nenhum valor sendo utilizado para representar um dado faltante. Ou seja, todas as linhas do conjunto estão preenchidas corretamente."
   ]
  },
  {
   "cell_type": "markdown",
   "metadata": {},
   "source": [
    "### 1.5 Mapeamento e tradução de variáveis\n",
    "\n",
    "Como visto no dicionário de dados, o conjunto se encontra em inglês, podemos mapear as variáveis para o português para facilitar a visualização dos dados."
   ]
  },
  {
   "cell_type": "code",
   "execution_count": 9,
   "metadata": {},
   "outputs": [
    {
     "data": {
      "text/html": [
       "<div>\n",
       "<style scoped>\n",
       "    .dataframe tbody tr th:only-of-type {\n",
       "        vertical-align: middle;\n",
       "    }\n",
       "\n",
       "    .dataframe tbody tr th {\n",
       "        vertical-align: top;\n",
       "    }\n",
       "\n",
       "    .dataframe thead th {\n",
       "        text-align: right;\n",
       "    }\n",
       "</style>\n",
       "<table border=\"1\" class=\"dataframe\">\n",
       "  <thead>\n",
       "    <tr style=\"text-align: right;\">\n",
       "      <th></th>\n",
       "      <th>GENDER</th>\n",
       "      <th>AGE</th>\n",
       "      <th>SMOKING</th>\n",
       "      <th>YELLOW_FINGERS</th>\n",
       "      <th>ANXIETY</th>\n",
       "      <th>PEER_PRESSURE</th>\n",
       "      <th>CHRONIC DISEASE</th>\n",
       "      <th>FATIGUE</th>\n",
       "      <th>ALLERGY</th>\n",
       "      <th>WHEEZING</th>\n",
       "      <th>ALCOHOL CONSUMING</th>\n",
       "      <th>COUGHING</th>\n",
       "      <th>SHORTNESS OF BREATH</th>\n",
       "      <th>SWALLOWING DIFFICULTY</th>\n",
       "      <th>CHEST PAIN</th>\n",
       "      <th>LUNG_CANCER</th>\n",
       "    </tr>\n",
       "  </thead>\n",
       "  <tbody>\n",
       "    <tr>\n",
       "      <th>0</th>\n",
       "      <td>M</td>\n",
       "      <td>69</td>\n",
       "      <td>Não</td>\n",
       "      <td>Sim</td>\n",
       "      <td>Sim</td>\n",
       "      <td>Não</td>\n",
       "      <td>Não</td>\n",
       "      <td>Sim</td>\n",
       "      <td>Não</td>\n",
       "      <td>Sim</td>\n",
       "      <td>Sim</td>\n",
       "      <td>Sim</td>\n",
       "      <td>Sim</td>\n",
       "      <td>Sim</td>\n",
       "      <td>Sim</td>\n",
       "      <td>Sim</td>\n",
       "    </tr>\n",
       "    <tr>\n",
       "      <th>1</th>\n",
       "      <td>M</td>\n",
       "      <td>74</td>\n",
       "      <td>Sim</td>\n",
       "      <td>Não</td>\n",
       "      <td>Não</td>\n",
       "      <td>Não</td>\n",
       "      <td>Sim</td>\n",
       "      <td>Sim</td>\n",
       "      <td>Sim</td>\n",
       "      <td>Não</td>\n",
       "      <td>Não</td>\n",
       "      <td>Não</td>\n",
       "      <td>Sim</td>\n",
       "      <td>Sim</td>\n",
       "      <td>Sim</td>\n",
       "      <td>Sim</td>\n",
       "    </tr>\n",
       "    <tr>\n",
       "      <th>2</th>\n",
       "      <td>F</td>\n",
       "      <td>59</td>\n",
       "      <td>Não</td>\n",
       "      <td>Não</td>\n",
       "      <td>Não</td>\n",
       "      <td>Sim</td>\n",
       "      <td>Não</td>\n",
       "      <td>Sim</td>\n",
       "      <td>Não</td>\n",
       "      <td>Sim</td>\n",
       "      <td>Não</td>\n",
       "      <td>Sim</td>\n",
       "      <td>Sim</td>\n",
       "      <td>Não</td>\n",
       "      <td>Sim</td>\n",
       "      <td>Não</td>\n",
       "    </tr>\n",
       "    <tr>\n",
       "      <th>3</th>\n",
       "      <td>M</td>\n",
       "      <td>63</td>\n",
       "      <td>Sim</td>\n",
       "      <td>Sim</td>\n",
       "      <td>Sim</td>\n",
       "      <td>Não</td>\n",
       "      <td>Não</td>\n",
       "      <td>Não</td>\n",
       "      <td>Não</td>\n",
       "      <td>Não</td>\n",
       "      <td>Sim</td>\n",
       "      <td>Não</td>\n",
       "      <td>Não</td>\n",
       "      <td>Sim</td>\n",
       "      <td>Sim</td>\n",
       "      <td>Não</td>\n",
       "    </tr>\n",
       "    <tr>\n",
       "      <th>4</th>\n",
       "      <td>F</td>\n",
       "      <td>63</td>\n",
       "      <td>Não</td>\n",
       "      <td>Sim</td>\n",
       "      <td>Não</td>\n",
       "      <td>Não</td>\n",
       "      <td>Não</td>\n",
       "      <td>Não</td>\n",
       "      <td>Não</td>\n",
       "      <td>Sim</td>\n",
       "      <td>Não</td>\n",
       "      <td>Sim</td>\n",
       "      <td>Sim</td>\n",
       "      <td>Não</td>\n",
       "      <td>Não</td>\n",
       "      <td>Não</td>\n",
       "    </tr>\n",
       "  </tbody>\n",
       "</table>\n",
       "</div>"
      ],
      "text/plain": [
       "  GENDER  AGE SMOKING YELLOW_FINGERS ANXIETY PEER_PRESSURE CHRONIC DISEASE  \\\n",
       "0      M   69     Não            Sim     Sim           Não             Não   \n",
       "1      M   74     Sim            Não     Não           Não             Sim   \n",
       "2      F   59     Não            Não     Não           Sim             Não   \n",
       "3      M   63     Sim            Sim     Sim           Não             Não   \n",
       "4      F   63     Não            Sim     Não           Não             Não   \n",
       "\n",
       "  FATIGUE ALLERGY WHEEZING ALCOHOL CONSUMING COUGHING SHORTNESS OF BREATH  \\\n",
       "0     Sim     Não      Sim               Sim      Sim                 Sim   \n",
       "1     Sim     Sim      Não               Não      Não                 Sim   \n",
       "2     Sim     Não      Sim               Não      Sim                 Sim   \n",
       "3     Não     Não      Não               Sim      Não                 Não   \n",
       "4     Não     Não      Sim               Não      Sim                 Sim   \n",
       "\n",
       "  SWALLOWING DIFFICULTY CHEST PAIN LUNG_CANCER  \n",
       "0                   Sim        Sim         Sim  \n",
       "1                   Sim        Sim         Sim  \n",
       "2                   Não        Sim         Não  \n",
       "3                   Sim        Sim         Não  \n",
       "4                   Não        Não         Não  "
      ]
     },
     "execution_count": 9,
     "metadata": {},
     "output_type": "execute_result"
    }
   ],
   "source": [
    "#Traduzindo as variáveis para o português\n",
    "\n",
    "df.replace({'YES': 'Sim', 'NO': 'Não'}, inplace=True)\n",
    "df.replace({1: 'Não', 2: 'Sim'}, inplace=True)\n",
    "\n",
    "df.head()"
   ]
  },
  {
   "cell_type": "markdown",
   "metadata": {},
   "source": [
    "Além disso, também podemos traduzir os valores das colunas. Para isso podemos criar uma tabela com a tradução das variáveis. \n",
    "\n",
    "**OBS.: As variáveis traduzidas serão utilizadas apenas nos gráficos.**"
   ]
  },
  {
   "cell_type": "code",
   "execution_count": 10,
   "metadata": {},
   "outputs": [
    {
     "data": {
      "text/html": [
       "<div>\n",
       "<style scoped>\n",
       "    .dataframe tbody tr th:only-of-type {\n",
       "        vertical-align: middle;\n",
       "    }\n",
       "\n",
       "    .dataframe tbody tr th {\n",
       "        vertical-align: top;\n",
       "    }\n",
       "\n",
       "    .dataframe thead th {\n",
       "        text-align: right;\n",
       "    }\n",
       "</style>\n",
       "<table border=\"1\" class=\"dataframe\">\n",
       "  <thead>\n",
       "    <tr style=\"text-align: right;\">\n",
       "      <th></th>\n",
       "      <th>Variável</th>\n",
       "      <th>Tradução</th>\n",
       "    </tr>\n",
       "  </thead>\n",
       "  <tbody>\n",
       "    <tr>\n",
       "      <th>0</th>\n",
       "      <td>GENDER</td>\n",
       "      <td>Gênero</td>\n",
       "    </tr>\n",
       "    <tr>\n",
       "      <th>1</th>\n",
       "      <td>AGE</td>\n",
       "      <td>Idade</td>\n",
       "    </tr>\n",
       "    <tr>\n",
       "      <th>2</th>\n",
       "      <td>SMOKING</td>\n",
       "      <td>Fumante</td>\n",
       "    </tr>\n",
       "    <tr>\n",
       "      <th>3</th>\n",
       "      <td>YELLOW_FINGERS</td>\n",
       "      <td>Dedos amarelados</td>\n",
       "    </tr>\n",
       "    <tr>\n",
       "      <th>4</th>\n",
       "      <td>ANXIETY</td>\n",
       "      <td>Ansiedade</td>\n",
       "    </tr>\n",
       "    <tr>\n",
       "      <th>5</th>\n",
       "      <td>PEER_PRESSURE</td>\n",
       "      <td>Pressão grupal</td>\n",
       "    </tr>\n",
       "    <tr>\n",
       "      <th>6</th>\n",
       "      <td>CHRONIC DISEASE</td>\n",
       "      <td>Doença crônica</td>\n",
       "    </tr>\n",
       "    <tr>\n",
       "      <th>7</th>\n",
       "      <td>FATIGUE</td>\n",
       "      <td>Fadiga</td>\n",
       "    </tr>\n",
       "    <tr>\n",
       "      <th>8</th>\n",
       "      <td>ALLERGY</td>\n",
       "      <td>Alergia</td>\n",
       "    </tr>\n",
       "    <tr>\n",
       "      <th>9</th>\n",
       "      <td>WHEEZING</td>\n",
       "      <td>Pieira</td>\n",
       "    </tr>\n",
       "    <tr>\n",
       "      <th>10</th>\n",
       "      <td>ALCOHOL CONSUMING</td>\n",
       "      <td>Consumo alcoólico</td>\n",
       "    </tr>\n",
       "    <tr>\n",
       "      <th>11</th>\n",
       "      <td>COUGHING</td>\n",
       "      <td>Tosse</td>\n",
       "    </tr>\n",
       "    <tr>\n",
       "      <th>12</th>\n",
       "      <td>SHORTNESS OF BREATH</td>\n",
       "      <td>Falta de ar</td>\n",
       "    </tr>\n",
       "    <tr>\n",
       "      <th>13</th>\n",
       "      <td>SWALLOWING DIFFICULTY</td>\n",
       "      <td>Dificuldade de ingestão</td>\n",
       "    </tr>\n",
       "    <tr>\n",
       "      <th>14</th>\n",
       "      <td>CHEST PAIN</td>\n",
       "      <td>Dor torácica</td>\n",
       "    </tr>\n",
       "    <tr>\n",
       "      <th>15</th>\n",
       "      <td>LUNG_CANCER</td>\n",
       "      <td>Câncer pulmonar</td>\n",
       "    </tr>\n",
       "  </tbody>\n",
       "</table>\n",
       "</div>"
      ],
      "text/plain": [
       "                 Variável                 Tradução\n",
       "0                  GENDER                   Gênero\n",
       "1                     AGE                    Idade\n",
       "2                 SMOKING                  Fumante\n",
       "3          YELLOW_FINGERS         Dedos amarelados\n",
       "4                 ANXIETY                Ansiedade\n",
       "5           PEER_PRESSURE           Pressão grupal\n",
       "6         CHRONIC DISEASE           Doença crônica\n",
       "7                 FATIGUE                   Fadiga\n",
       "8                 ALLERGY                  Alergia\n",
       "9                WHEEZING                   Pieira\n",
       "10      ALCOHOL CONSUMING        Consumo alcoólico\n",
       "11               COUGHING                    Tosse\n",
       "12    SHORTNESS OF BREATH              Falta de ar\n",
       "13  SWALLOWING DIFFICULTY  Dificuldade de ingestão\n",
       "14             CHEST PAIN             Dor torácica\n",
       "15            LUNG_CANCER          Câncer pulmonar"
      ]
     },
     "execution_count": 10,
     "metadata": {},
     "output_type": "execute_result"
    }
   ],
   "source": [
    "dict_columns = {\n",
    "    'GENDER': 'Gênero',\n",
    "    'AGE': 'Idade',\n",
    "    'SMOKING': 'Fumante',\n",
    "    'YELLOW_FINGERS': 'Dedos amarelados',\n",
    "    'ANXIETY': 'Ansiedade',\n",
    "    'PEER_PRESSURE' : 'Pressão grupal',\n",
    "    'CHRONIC DISEASE' : 'Doença crônica',\n",
    "    'FATIGUE' : 'Fadiga',\n",
    "    'ALLERGY' : 'Alergia',\n",
    "    'WHEEZING' :  'Pieira',\n",
    "    'ALCOHOL CONSUMING' : 'Consumo alcoólico',\n",
    "    'COUGHING' : 'Tosse',\n",
    "    'SHORTNESS OF BREATH' : 'Falta de ar',\n",
    "    'SWALLOWING DIFFICULTY' : 'Dificuldade de ingestão',\n",
    "    'CHEST PAIN' : 'Dor torácica',\n",
    "    'LUNG_CANCER' : 'Câncer pulmonar',\n",
    "}\n",
    "\n",
    "pd.DataFrame(dict_columns.items(), columns=['Variável', 'Tradução'])"
   ]
  },
  {
   "cell_type": "markdown",
   "metadata": {},
   "source": [
    "## 2. Perguntas de partida e hipóteses"
   ]
  },
  {
   "cell_type": "markdown",
   "metadata": {},
   "source": [
    "Com visualizações de informações gerais poderemos responder a perguntas do tipo:\n",
    "\n",
    "- Qual a distribuição de gênero dos pacientes?\n",
    "- Qual a quantidade de casos confirmados de cancer de pulmão?\n",
    "- Qual a distribuição de idade dos pacientes?\n",
    "- Qual a correlação entre os sintomas dos pacientes?\n",
    "- Existem dados fora do padrão?\n",
    "\n",
    "Com isso, podemos dividir nosso estudo em 3 vertentes: primeiro analisaremos a distribuição de gênero dos pacientes, em seguida a distribuição de idade e por fim a correlação entre os sintomas dos pacientes. Sempre tomando como comparação a variável alvo `LUNG_CANCER`."
   ]
  },
  {
   "cell_type": "markdown",
   "metadata": {},
   "source": [
    "## 3. Insights"
   ]
  },
  {
   "cell_type": "markdown",
   "metadata": {},
   "source": [
    "### 3.1 Casos confirmados de câncer de pulmão\n",
    "\n",
    "Antes de analisarmos outras variáveis, podemos verificar a distribuição de casos da variável alvo `LUNG_CANCER`."
   ]
  },
  {
   "cell_type": "code",
   "execution_count": 11,
   "metadata": {},
   "outputs": [
    {
     "data": {
      "image/png": "[encoded data removed]",
      "text/plain": [
       "<Figure size 504x504 with 1 Axes>"
      ]
     },
     "metadata": {
      "needs_background": "light"
     },
     "output_type": "display_data"
    }
   ],
   "source": [
    "plt.figure(figsize=(7,7))\n",
    "plt.suptitle('Distribuição de câncer de pulmão', fontweight='bold')\n",
    "visualize.variable_dist_count(df, 'LUNG_CANCER')\n",
    "plt.tight_layout()\n",
    "plt.show()"
   ]
  },
  {
   "cell_type": "markdown",
   "metadata": {},
   "source": [
    "É notável, então, que a grande maioria do conjunto se trata de indivíduos que possuem câncer de pulmão."
   ]
  },
  {
   "cell_type": "markdown",
   "metadata": {},
   "source": [
    "### 3.2 Distribuição de gênero\n",
    "\n",
    "Podemos analisar a variável `GENDER` para verificar se há algum padrão de distribuição de gênero entre os pacientes e a existência de câncer de pulmão."
   ]
  },
  {
   "cell_type": "code",
   "execution_count": 12,
   "metadata": {},
   "outputs": [
    {
     "data": {
      "image/png": "[encoded data removed]",
      "text/plain": [
       "<Figure size 504x504 with 1 Axes>"
      ]
     },
     "metadata": {
      "needs_background": "light"
     },
     "output_type": "display_data"
    }
   ],
   "source": [
    "plt.figure(figsize=(7,7))\n",
    "plt.suptitle('Distribuição de gênero', fontweight='bold')\n",
    "visualize.variable_dist_count(df, 'GENDER')\n",
    "plt.tight_layout()\n",
    "plt.show()"
   ]
  },
  {
   "cell_type": "markdown",
   "metadata": {},
   "source": [
    "Como podemos analisar, a maioria dos pacientes são do sexo masculino, com uma diferença de aprox. 4% em relação ao sexo feminino.\n",
    "\n",
    "Podemos fazer uma análise mais detalhada analisando os genêros em relação a presença de câncer de pulmão.\n"
   ]
  },
  {
   "cell_type": "code",
   "execution_count": 13,
   "metadata": {},
   "outputs": [
    {
     "data": {
      "image/png": "[encoded data removed]",
      "text/plain": [
       "<Figure size 504x504 with 1 Axes>"
      ]
     },
     "metadata": {
      "needs_background": "light"
     },
     "output_type": "display_data"
    }
   ],
   "source": [
    "plt.figure(figsize=(7,7))\n",
    "ax = visualize.variable_dist_count(df, 'GENDER', compare='LUNG_CANCER')\n",
    "plt.suptitle('Distribuição de Gênero x Presença de câncer', fontweight='bold')\n",
    "plt.tight_layout()\n",
    "plt.show()"
   ]
  },
  {
   "cell_type": "markdown",
   "metadata": {},
   "source": [
    "Os dados se mantém consistentes quando analisamos a presença de câncer de pulmão. **Não é viável alegar**, portanto, que o gênero influencia na presença de câncer de pulmão."
   ]
  },
  {
   "cell_type": "markdown",
   "metadata": {},
   "source": [
    "### 3.3 Distribuição de idade\n",
    "\n",
    "Podemos também analisar a variável `AGE` para verificar se há algum padrão de distribuição de idade entre os pacientes e a existência de câncer de pulmão."
   ]
  },
  {
   "cell_type": "code",
   "execution_count": 14,
   "metadata": {},
   "outputs": [
    {
     "data": {
      "image/png": "[encoded data removed]",
      "text/plain": [
       "<Figure size 1008x432 with 1 Axes>"
      ]
     },
     "metadata": {
      "needs_background": "light"
     },
     "output_type": "display_data"
    }
   ],
   "source": [
    "plt.figure(figsize=(14,6))\n",
    "#visualize.variable_dist_count(df, 'GENDER', axe=axes.flatten()[0])\n",
    "ax = visualize.variable_dist_histogram(df, 'AGE')\n",
    "plt.suptitle('Distribuição de Idade', fontweight='bold')\n",
    "plt.tight_layout()\n",
    "plt.show()"
   ]
  },
  {
   "cell_type": "markdown",
   "metadata": {},
   "source": [
    "Podemos verificar que a maioria dos pacientes se encontra na faixa etária acima de 40 anos. A distribuição de idade dos pacientes é bem uniforme, com uma leve tendência de pacientes mais velhos.\n",
    "\n",
    "Podemos analisar a distribuição de idade dos pacientes em relação a presença de câncer de pulmão."
   ]
  },
  {
   "cell_type": "code",
   "execution_count": 15,
   "metadata": {},
   "outputs": [
    {
     "data": {
      "image/png": "[encoded data removed]",
      "text/plain": [
       "<Figure size 1008x432 with 1 Axes>"
      ]
     },
     "metadata": {
      "needs_background": "light"
     },
     "output_type": "display_data"
    }
   ],
   "source": [
    "plt.figure(figsize=(14,6))\n",
    "ax = sns.histplot(data=df, x='AGE', hue='LUNG_CANCER', multiple='stack', kde=True)\n",
    "ax.xaxis.grid(False)\n",
    "plt.legend(title='Câncer de pulmão', loc='upper right', labels=['Não', 'Sim'])\n",
    "plt.suptitle('Distribuição de Idade x Presença de câncer ', fontweight='bold')\n",
    "plt.tight_layout()\n",
    "plt.show()"
   ]
  },
  {
   "cell_type": "markdown",
   "metadata": {},
   "source": [
    "Podemos verificar alguns dados adicionais, como média, variância e desvio padrão das idades"
   ]
  },
  {
   "cell_type": "code",
   "execution_count": 16,
   "metadata": {},
   "outputs": [
    {
     "data": {
      "text/html": [
       "<div>\n",
       "<style scoped>\n",
       "    .dataframe tbody tr th:only-of-type {\n",
       "        vertical-align: middle;\n",
       "    }\n",
       "\n",
       "    .dataframe tbody tr th {\n",
       "        vertical-align: top;\n",
       "    }\n",
       "\n",
       "    .dataframe thead th {\n",
       "        text-align: right;\n",
       "    }\n",
       "</style>\n",
       "<table border=\"1\" class=\"dataframe\">\n",
       "  <thead>\n",
       "    <tr style=\"text-align: right;\">\n",
       "      <th></th>\n",
       "      <th>Média</th>\n",
       "      <th>Variância</th>\n",
       "      <th>Desvio Padrão</th>\n",
       "    </tr>\n",
       "    <tr>\n",
       "      <th>Câncer pulmonar</th>\n",
       "      <th></th>\n",
       "      <th></th>\n",
       "      <th></th>\n",
       "    </tr>\n",
       "  </thead>\n",
       "  <tbody>\n",
       "    <tr>\n",
       "      <th>Não</th>\n",
       "      <td>60.7</td>\n",
       "      <td>92.7</td>\n",
       "      <td>9.6</td>\n",
       "    </tr>\n",
       "    <tr>\n",
       "      <th>Sim</th>\n",
       "      <td>63.0</td>\n",
       "      <td>63.5</td>\n",
       "      <td>8.0</td>\n",
       "    </tr>\n",
       "  </tbody>\n",
       "</table>\n",
       "</div>"
      ],
      "text/plain": [
       "                 Média  Variância  Desvio Padrão\n",
       "Câncer pulmonar                                 \n",
       "Não               60.7       92.7            9.6\n",
       "Sim               63.0       63.5            8.0"
      ]
     },
     "execution_count": 16,
     "metadata": {},
     "output_type": "execute_result"
    }
   ],
   "source": [
    "#DADOS ADICIONAIS\n",
    "#Get mean, variance and default deviation of ages on a table\n",
    "age_data = df.groupby('LUNG_CANCER')['AGE'].agg(['mean', 'var', 'std'])\n",
    "#Rename columns to better visualize\n",
    "age_data.rename(columns={'mean': 'Média', 'var': 'Variância', 'std': 'Desvio Padrão'}, inplace=True)\n",
    "#Rename index column to better visualize\n",
    "age_data.index.names=['Câncer pulmonar']\n",
    "#Format values to 2 decimal places\n",
    "age_data = age_data.round(1)\n",
    "#Display table\n",
    "age_data\n"
   ]
  },
  {
   "cell_type": "markdown",
   "metadata": {},
   "source": [
    "Os dados se mantém consistentes quando analisamos a presença de câncer de pulmão. \n",
    "\n",
    "Contudo é possível notar que a maioria dos casos positivos está na faixa de 60 a 70 anos. Então **é possível considerar**, que a idade pode influenciar na presença de câncer de pulmão."
   ]
  },
  {
   "cell_type": "markdown",
   "metadata": {},
   "source": [
    "### 3.4 Análise de sintomas\n",
    "\n",
    "Analisamos agora a presença de sintomas entre os pacientes e a correlação destes com a existência de câncer de pulmão. Buscando encontrar um padrão que nos ajude a, posteriormente, criar um modelo de aprendizagem de máquina para predição de câncer de pulmão."
   ]
  },
  {
   "cell_type": "markdown",
   "metadata": {},
   "source": [
    "#### 3.4.1 Correlação entre os sintomas\n",
    "\n",
    "Podemos analisar a correlação entre os sintomas dos pacientes antes de realizar outras análises para tentar encontrar um padrão entre o aparecimento de sintomas nos pacientes. "
   ]
  },
  {
   "cell_type": "code",
   "execution_count": 17,
   "metadata": {},
   "outputs": [
    {
     "data": {
      "image/png": "[encoded data removed]",
      "text/plain": [
       "<Figure size 504x504 with 2 Axes>"
      ]
     },
     "metadata": {
      "needs_background": "light"
     },
     "output_type": "display_data"
    }
   ],
   "source": [
    "query_data = df.replace([\"Não\", \"Sim\"], [0, 1])\n",
    "var_group = 'Sintoma'\n",
    "ax = visualize.correlation(query_data[columns_by_group[var_group]], df_dict=df_dict)\n",
    "\n",
    "plt.suptitle(\"Correlação de sintomas\", fontweight='bold')\n",
    "plt.tight_layout()\n",
    "plt.show()"
   ]
  },
  {
   "cell_type": "markdown",
   "metadata": {},
   "source": [
    "Podemos concluir que: \n",
    "- Ansiedade `(ANXIETY)` e Dedos amarelados `(YELLOW_FINGERS)` são os sintomas mais correlacionados\n",
    "- Dedos amarelados `(YELLOW_FINGERS)` e Consumo alcoólico `(ALCOHOL CONSUMING)` são os sintomas menos correlacionados\n",
    "- Outras correlações notáveis:\n",
    "    - Ansiedade `(ANXIETY)` e Dificuldade de ingestão `(SWALLOWING DIFFICULTY)`\n",
    "    - Fadiga `(FATIGUE)` e Falta de ar `(SHORTNESS OF BREATH)`\n",
    "\n",
    "Ao analisarmos outros gráficos podemos ficar atentos à essas variáveis para buscar padrões."
   ]
  },
  {
   "cell_type": "markdown",
   "metadata": {},
   "source": [
    "#### 3.4.2 Ocorrência de sintomas"
   ]
  },
  {
   "cell_type": "markdown",
   "metadata": {},
   "source": [
    "**Primeiramente**, vamos analisar a distribuição de todos os sintomas entre o conjunto de dados inteiro, em seguida vamos verificar a distribuição em pacientes que possuem um caso confirmado."
   ]
  },
  {
   "cell_type": "code",
   "execution_count": 18,
   "metadata": {},
   "outputs": [
    {
     "data": {
      "image/png": "[encoded data removed]",
      "text/plain": [
       "<Figure size 1008x1008 with 1 Axes>"
      ]
     },
     "metadata": {
      "needs_background": "light"
     },
     "output_type": "display_data"
    }
   ],
   "source": [
    "fig = plt.figure(figsize=(14,14))\n",
    "ax = visualize.dist_sintomas(df, df_dict)\n",
    "\n",
    "fig.suptitle(\"Distribuição de sintomas (Geral)\", fontweight='bold')\n",
    "fig.tight_layout()\n",
    "\n",
    "ax.set(frame_on=False)\n",
    "ax.axvline(0, color=\"k\", clip_on=False)\n",
    "\n",
    "fig.show()"
   ]
  },
  {
   "cell_type": "markdown",
   "metadata": {},
   "source": [
    "\n",
    "**Com isso, podemos chegar em algumas conclusões:**\n",
    "- Fadiga `(FATIGUE)` é o sintoma mais comum, segudio de Falta de ar `(SHORTNESS OF BREATH)` e Tosse `(COUGH)`\n",
    "- Dificuldade de ingestão `(SWALLOWING DIFFICULTY)` é o sintoma menos comum\n",
    "\n",
    "Agora, vamos checar a aparição de sintomas em casos positivos de câncer de pulmão."
   ]
  },
  {
   "cell_type": "code",
   "execution_count": 19,
   "metadata": {},
   "outputs": [
    {
     "data": {
      "image/png": "[encoded data removed]",
      "text/plain": [
       "<Figure size 1008x1008 with 1 Axes>"
      ]
     },
     "metadata": {
      "needs_background": "light"
     },
     "output_type": "display_data"
    }
   ],
   "source": [
    "df2 = df.drop(df[df['LUNG_CANCER'] == 'Não'].index)\n",
    "fig = plt.figure(figsize=(14,14))\n",
    "ax = visualize.dist_sintomas(df2, df_dict)\n",
    "fig.suptitle(\"Distribuição de sintomas (Casos confirmados)\", fontweight='bold')\n",
    "ax.set(frame_on=False)\n",
    "ax.axvline(0, color=\"k\", clip_on=False)\n",
    "fig.tight_layout()\n",
    "plt.show()"
   ]
  },
  {
   "cell_type": "markdown",
   "metadata": {},
   "source": [
    "\n",
    "**Comparando os dois gráficos podemos concluir:**\n",
    "- Fadiga `(FATIGUE)` também é o sintoma mais comum quando consideramos apenas os casos positivos de câncer pulmonar\n",
    "- Dificuldade de ingestão `(SWALLOWING DIFFICULTY)` é o sintoma menos comum entre os casos positivos de câncer pulmonar\n",
    "- Pressão grupal `(PEER_PRESSURE)`, Doença crônica `(CHRONIC DISEASE)` e Ansiedade `(ANXIETY)` são sintomas que aparecem de forma relativamente igual entre os casos positivos e negativos \n",
    "- No geral, os dados permanecem consistentes, o que é esperado considerando que a maioria do conjunto de dados é de pacientes com câncer de pulmão"
   ]
  },
  {
   "cell_type": "markdown",
   "metadata": {},
   "source": [
    "Além disso, ao comparar os gráficos acima com a correlação feita anteriormente, podemos notar que: \n",
    "\n",
    "- Fadiga `(FATIGUE)` e Falta de ar `(SHORTNESS OF BREATH)` são sintomas correlacionados que aparecem com muita frequência nos casos positivos de câncer de pulmão\n",
    "- Ansiedade `(ANXIETY)` aparece de forma similar em casos positivos e negativos, mas é fortemente correlacionado com Dedos amarelados `(YELLOW_FINGERS)` que possui uma ocorrência maior em casos positivos. \n"
   ]
  },
  {
   "cell_type": "markdown",
   "metadata": {},
   "source": [
    "#### 3.4.3 Dados estatísticos sobre sintomas\n",
    "\n",
    "Podemos também brevemente analisar dados como:\n",
    "- Média que um paciente com câncer de pulmão possui\n",
    "- Buscar casos fora do padrão, como por exemplo, pacientes que possuem muitos sintomas e não possuem câncer de pulmão"
   ]
  },
  {
   "cell_type": "code",
   "execution_count": 20,
   "metadata": {},
   "outputs": [],
   "source": [
    "df3 = df.copy()\n",
    "#Binarize data\n",
    "df3.replace([\"Não\", \"Sim\"], [0, 1], inplace=True)\n",
    "#Add field to dataframe with the count of symptoms\n",
    "df3['Sintomas'] = df3[columns_by_group['Sintoma']].sum(axis=1)\n"
   ]
  },
  {
   "cell_type": "code",
   "execution_count": 21,
   "metadata": {},
   "outputs": [
    {
     "data": {
      "image/png": "[encoded data removed]",
      "text/plain": [
       "<Figure size 1008x432 with 2 Axes>"
      ]
     },
     "metadata": {
      "needs_background": "light"
     },
     "output_type": "display_data"
    }
   ],
   "source": [
    "#Subplots\n",
    "fig, axes = plt.subplots(1, 2, figsize=(14,6))\n",
    "\n",
    "#Plot 1\n",
    "visualize.sintomas_statistics(df3, axe=axes[0])\n",
    "visualize.boxplot_sintomas(df3, y='LUNG_CANCER', axe=axes[1])\n",
    "fig.tight_layout(pad=2)\n",
    "fig.show()"
   ]
  },
  {
   "cell_type": "markdown",
   "metadata": {},
   "source": [
    "Podemos visualizar então, que pacientes com câncer de pulmão possuem em média 7.7 sintomas, enquanto que aqueles que não possuem a doença tem uma média de 4 sintomas.\n",
    "\n",
    "Ao análisar nosso gráfico de caixa, notamos a existência de valores que parecem estar fora do padrão, vamos tentar encotra-los e realizar uma análise mais aprofundada.\n"
   ]
  },
  {
   "cell_type": "code",
   "execution_count": 22,
   "metadata": {},
   "outputs": [
    {
     "data": {
      "text/html": [
       "<div>\n",
       "<style scoped>\n",
       "    .dataframe tbody tr th:only-of-type {\n",
       "        vertical-align: middle;\n",
       "    }\n",
       "\n",
       "    .dataframe tbody tr th {\n",
       "        vertical-align: top;\n",
       "    }\n",
       "\n",
       "    .dataframe thead th {\n",
       "        text-align: right;\n",
       "    }\n",
       "</style>\n",
       "<table border=\"1\" class=\"dataframe\">\n",
       "  <thead>\n",
       "    <tr style=\"text-align: right;\">\n",
       "      <th></th>\n",
       "      <th>Média</th>\n",
       "      <th>Mediana</th>\n",
       "      <th>Mínimo</th>\n",
       "      <th>Máximo</th>\n",
       "    </tr>\n",
       "    <tr>\n",
       "      <th>Câncer pulmonar</th>\n",
       "      <th></th>\n",
       "      <th></th>\n",
       "      <th></th>\n",
       "      <th></th>\n",
       "    </tr>\n",
       "  </thead>\n",
       "  <tbody>\n",
       "    <tr>\n",
       "      <th>Sim</th>\n",
       "      <td>7.7</td>\n",
       "      <td>8.0</td>\n",
       "      <td>2</td>\n",
       "      <td>12</td>\n",
       "    </tr>\n",
       "    <tr>\n",
       "      <th>Não</th>\n",
       "      <td>4.0</td>\n",
       "      <td>4.0</td>\n",
       "      <td>2</td>\n",
       "      <td>6</td>\n",
       "    </tr>\n",
       "  </tbody>\n",
       "</table>\n",
       "</div>"
      ],
      "text/plain": [
       "                 Média  Mediana  Mínimo  Máximo\n",
       "Câncer pulmonar                                \n",
       "Sim                7.7      8.0       2      12\n",
       "Não                4.0      4.0       2       6"
      ]
     },
     "execution_count": 22,
     "metadata": {},
     "output_type": "execute_result"
    }
   ],
   "source": [
    "symptons_data = df3.groupby('LUNG_CANCER')['Sintomas'].agg(['mean', 'median', 'min', 'max'])\n",
    "#Rename columns\n",
    "symptons_data.rename(columns={'mean': 'Média', 'median': 'Mediana', 'min': 'Mínimo', 'max': 'Máximo'}, inplace=True)\n",
    "#Rename index column\n",
    "symptons_data.index.names=['Câncer pulmonar']\n",
    "#Rename values of index colum to {0: 'Não', 1: 'Sim'}\n",
    "symptons_data.index = symptons_data.index.map({0: 'Não', 1: 'Sim'})\n",
    "#Order by index\n",
    "symptons_data = symptons_data.reindex(['Sim', 'Não'])\n",
    "#Format values to 2 decimal places\n",
    "symptons_data = symptons_data.round(1)\n",
    "#Display table\n",
    "symptons_data\n"
   ]
  },
  {
   "cell_type": "code",
   "execution_count": 23,
   "metadata": {},
   "outputs": [
    {
     "data": {
      "text/html": [
       "<div>\n",
       "<style scoped>\n",
       "    .dataframe tbody tr th:only-of-type {\n",
       "        vertical-align: middle;\n",
       "    }\n",
       "\n",
       "    .dataframe tbody tr th {\n",
       "        vertical-align: top;\n",
       "    }\n",
       "\n",
       "    .dataframe thead th {\n",
       "        text-align: right;\n",
       "    }\n",
       "</style>\n",
       "<table border=\"1\" class=\"dataframe\">\n",
       "  <thead>\n",
       "    <tr style=\"text-align: right;\">\n",
       "      <th></th>\n",
       "      <th>GENDER</th>\n",
       "      <th>AGE</th>\n",
       "      <th>SMOKING</th>\n",
       "      <th>YELLOW_FINGERS</th>\n",
       "      <th>ANXIETY</th>\n",
       "      <th>PEER_PRESSURE</th>\n",
       "      <th>CHRONIC DISEASE</th>\n",
       "      <th>FATIGUE</th>\n",
       "      <th>ALLERGY</th>\n",
       "      <th>WHEEZING</th>\n",
       "      <th>ALCOHOL CONSUMING</th>\n",
       "      <th>COUGHING</th>\n",
       "      <th>SHORTNESS OF BREATH</th>\n",
       "      <th>SWALLOWING DIFFICULTY</th>\n",
       "      <th>CHEST PAIN</th>\n",
       "      <th>LUNG_CANCER</th>\n",
       "      <th>Sintomas</th>\n",
       "    </tr>\n",
       "  </thead>\n",
       "  <tbody>\n",
       "    <tr>\n",
       "      <th>187</th>\n",
       "      <td>M</td>\n",
       "      <td>55</td>\n",
       "      <td>Sim</td>\n",
       "      <td>Não</td>\n",
       "      <td>Não</td>\n",
       "      <td>Não</td>\n",
       "      <td>Não</td>\n",
       "      <td>Sim</td>\n",
       "      <td>Não</td>\n",
       "      <td>Não</td>\n",
       "      <td>Não</td>\n",
       "      <td>Não</td>\n",
       "      <td>Não</td>\n",
       "      <td>Não</td>\n",
       "      <td>Não</td>\n",
       "      <td>Sim</td>\n",
       "      <td>2</td>\n",
       "    </tr>\n",
       "    <tr>\n",
       "      <th>190</th>\n",
       "      <td>F</td>\n",
       "      <td>69</td>\n",
       "      <td>Não</td>\n",
       "      <td>Não</td>\n",
       "      <td>Não</td>\n",
       "      <td>Não</td>\n",
       "      <td>Sim</td>\n",
       "      <td>Sim</td>\n",
       "      <td>Não</td>\n",
       "      <td>Não</td>\n",
       "      <td>Não</td>\n",
       "      <td>Não</td>\n",
       "      <td>Não</td>\n",
       "      <td>Não</td>\n",
       "      <td>Não</td>\n",
       "      <td>Sim</td>\n",
       "      <td>2</td>\n",
       "    </tr>\n",
       "    <tr>\n",
       "      <th>193</th>\n",
       "      <td>F</td>\n",
       "      <td>64</td>\n",
       "      <td>Não</td>\n",
       "      <td>Não</td>\n",
       "      <td>Não</td>\n",
       "      <td>Sim</td>\n",
       "      <td>Sim</td>\n",
       "      <td>Não</td>\n",
       "      <td>Não</td>\n",
       "      <td>Não</td>\n",
       "      <td>Não</td>\n",
       "      <td>Não</td>\n",
       "      <td>Não</td>\n",
       "      <td>Não</td>\n",
       "      <td>Não</td>\n",
       "      <td>Sim</td>\n",
       "      <td>2</td>\n",
       "    </tr>\n",
       "  </tbody>\n",
       "</table>\n",
       "</div>"
      ],
      "text/plain": [
       "    GENDER  AGE SMOKING YELLOW_FINGERS ANXIETY PEER_PRESSURE CHRONIC DISEASE  \\\n",
       "187      M   55     Sim            Não     Não           Não             Não   \n",
       "190      F   69     Não            Não     Não           Não             Sim   \n",
       "193      F   64     Não            Não     Não           Sim             Sim   \n",
       "\n",
       "    FATIGUE ALLERGY WHEEZING ALCOHOL CONSUMING COUGHING SHORTNESS OF BREATH  \\\n",
       "187     Sim     Não      Não               Não      Não                 Não   \n",
       "190     Sim     Não      Não               Não      Não                 Não   \n",
       "193     Não     Não      Não               Não      Não                 Não   \n",
       "\n",
       "    SWALLOWING DIFFICULTY CHEST PAIN LUNG_CANCER  Sintomas  \n",
       "187                   Não        Não         Sim         2  \n",
       "190                   Não        Não         Sim         2  \n",
       "193                   Não        Não         Sim         2  "
      ]
     },
     "execution_count": 23,
     "metadata": {},
     "output_type": "execute_result"
    }
   ],
   "source": [
    "#Get all people that have 2 symptoms\n",
    "df4 = df3.copy()\n",
    "df4 = df4[df4['Sintomas'] == 2]\n",
    "#Get only those that have lung cancer\n",
    "df4 = df4[df4['LUNG_CANCER'] == 1]\n",
    "#Go back to {0: 'Não', 1: 'Sim'} values in all variables\n",
    "df4.replace([0, 1], [\"Não\", \"Sim\"], inplace=True)\n",
    "df4"
   ]
  },
  {
   "cell_type": "markdown",
   "metadata": {},
   "source": [
    "Notamos então que há 3 pacientes com 2 sintomas que possuem câncer de pulmão. O que pode ser um indicativo de que esses pacientes podem ter descoberto a doença em estágio inicial, ou que a doença pode estar causando nestes indivíduos outros sintomas que não foram registrados.\n",
    "\n",
    "No geral, concluimos que **há casos fora do padrão**, e que **nem sempre a ausência de sintomas significa que o paciente não possui câncer de pulmão.**\n",
    "\n",
    "Além disso, também podemos concluir que **a presença dos sintomas apresentados pode influenciar na presença de câncer de pulmão**. Ademais podemos afirmar que **não há sintomas que sejam exclusivos de pacientes com câncer de pulmão**, assim como **não há como determinar apenas um (ou um grupo) de sintomas que sejam suficientes para provar que uma pessoa possui câncer de pulmão.**"
   ]
  }
 ],
 "metadata": {
  "kernelspec": {
   "display_name": "Python 3.8.10 ('src-5RD9zHOC-py3.8')",
   "language": "python",
   "name": "python3"
  },
  "language_info": {
   "codemirror_mode": {
    "name": "ipython",
    "version": 3
   },
   "file_extension": ".py",
   "mimetype": "text/x-python",
   "name": "python",
   "nbconvert_exporter": "python",
   "pygments_lexer": "ipython3",
   "version": "3.8.10"
  },
  "vscode": {
   "interpreter": {
    "hash": "5eca17b0663d2c8af688c8eb9d46c556880e5d30898781a45240b3c14a9d6b59"
   }
  }
 },
 "nbformat": 4,
 "nbformat_minor": 4
}
